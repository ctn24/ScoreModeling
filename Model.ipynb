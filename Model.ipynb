{
 "cells": [
  {
   "cell_type": "markdown",
   "metadata": {},
   "source": [
    "# Importamos las librerias"
   ]
  },
  {
   "cell_type": "code",
   "execution_count": 112,
   "metadata": {},
   "outputs": [],
   "source": [
    "import os\n",
    "import numpy as np\n",
    "import glob\n",
    "import shutil\n",
    "import pandas as pd"
   ]
  },
  {
   "cell_type": "code",
   "execution_count": 113,
   "metadata": {},
   "outputs": [],
   "source": [
    "import matplotlib.pyplot as plt"
   ]
  },
  {
   "cell_type": "code",
   "execution_count": 114,
   "metadata": {},
   "outputs": [],
   "source": [
    "import tensorflow as tf"
   ]
  },
  {
   "cell_type": "code",
   "execution_count": 115,
   "metadata": {},
   "outputs": [],
   "source": [
    "from tensorflow.keras.models import Sequential\n",
    "from tensorflow.keras.layers import Dense, Conv2D, Flatten, Dropout, MaxPooling2D\n",
    "from tensorflow.keras.preprocessing.image import ImageDataGenerator"
   ]
  },
  {
   "cell_type": "code",
   "execution_count": 116,
   "metadata": {},
   "outputs": [],
   "source": [
    "from sklearn.model_selection import train_test_split\n",
    "import sklearn"
   ]
  },
  {
   "cell_type": "markdown",
   "metadata": {},
   "source": [
    "# Cargamos la informacion"
   ]
  },
  {
   "cell_type": "code",
   "execution_count": 117,
   "metadata": {},
   "outputs": [
    {
     "data": {
      "text/plain": [
       "Index(['match_id', 'Date', 'League', 'club', 'Goals', 'Name', 'jersey_num',\n",
       "       'pos_left', 'pos_top', 'height_cm', 'weight_kg', 'overall', 'potential',\n",
       "       'weak_foot', 'pace', 'shooting', 'passing', 'dribbling', 'defending',\n",
       "       'physic', 'attacking_crossing', 'attacking_finishing',\n",
       "       'attacking_heading_accuracy', 'attacking_short_passing',\n",
       "       'attacking_volleys', 'skill_dribbling', 'skill_curve',\n",
       "       'skill_fk_accuracy', 'skill_long_passing', 'skill_ball_control',\n",
       "       'movement_acceleration', 'movement_sprint_speed', 'movement_agility',\n",
       "       'movement_reactions', 'movement_balance', 'power_shot_power',\n",
       "       'power_jumping', 'power_stamina', 'power_strength', 'power_long_shots',\n",
       "       'mentality_aggression', 'mentality_interceptions',\n",
       "       'mentality_positioning', 'mentality_vision', 'mentality_penalties',\n",
       "       'defending_marking', 'defending_standing_tackle',\n",
       "       'defending_sliding_tackle', 'int_work_att', 'int_work_def', 'left',\n",
       "       'right', 'away', 'home'],\n",
       "      dtype='object')"
      ]
     },
     "execution_count": 117,
     "metadata": {},
     "output_type": "execute_result"
    }
   ],
   "source": [
    "df = pd.read_csv(os.path.normpath('C:/Users/ctn24/PycharmProjects/ScoreModeling/PML_FPS.csv'), index_col=None)\n",
    "df.columns"
   ]
  },
  {
   "cell_type": "code",
   "execution_count": 118,
   "metadata": {},
   "outputs": [
    {
     "name": "stdout",
     "output_type": "stream",
     "text": [
      "<class 'pandas.core.frame.DataFrame'>\n",
      "RangeIndex: 7600 entries, 0 to 7599\n",
      "Data columns (total 54 columns):\n",
      " #   Column                      Non-Null Count  Dtype  \n",
      "---  ------                      --------------  -----  \n",
      " 0   match_id                    7600 non-null   int64  \n",
      " 1   Date                        7600 non-null   object \n",
      " 2   League                      7600 non-null   object \n",
      " 3   club                        7600 non-null   object \n",
      " 4   Goals                       7600 non-null   int64  \n",
      " 5   Name                        7600 non-null   object \n",
      " 6   jersey_num                  7600 non-null   int64  \n",
      " 7   pos_left                    7600 non-null   int64  \n",
      " 8   pos_top                     7600 non-null   int64  \n",
      " 9   height_cm                   7600 non-null   int64  \n",
      " 10  weight_kg                   7600 non-null   int64  \n",
      " 11  overall                     7600 non-null   int64  \n",
      " 12  potential                   7600 non-null   int64  \n",
      " 13  weak_foot                   7600 non-null   int64  \n",
      " 14  pace                        7600 non-null   int64  \n",
      " 15  shooting                    7600 non-null   int64  \n",
      " 16  passing                     7600 non-null   int64  \n",
      " 17  dribbling                   7600 non-null   int64  \n",
      " 18  defending                   7600 non-null   int64  \n",
      " 19  physic                      7600 non-null   int64  \n",
      " 20  attacking_crossing          7600 non-null   int64  \n",
      " 21  attacking_finishing         7600 non-null   int64  \n",
      " 22  attacking_heading_accuracy  7600 non-null   int64  \n",
      " 23  attacking_short_passing     7600 non-null   int64  \n",
      " 24  attacking_volleys           7600 non-null   int64  \n",
      " 25  skill_dribbling             7600 non-null   int64  \n",
      " 26  skill_curve                 7600 non-null   int64  \n",
      " 27  skill_fk_accuracy           7600 non-null   int64  \n",
      " 28  skill_long_passing          7600 non-null   int64  \n",
      " 29  skill_ball_control          7600 non-null   int64  \n",
      " 30  movement_acceleration       7600 non-null   int64  \n",
      " 31  movement_sprint_speed       7600 non-null   int64  \n",
      " 32  movement_agility            7600 non-null   int64  \n",
      " 33  movement_reactions          7600 non-null   int64  \n",
      " 34  movement_balance            7600 non-null   int64  \n",
      " 35  power_shot_power            7600 non-null   int64  \n",
      " 36  power_jumping               7600 non-null   int64  \n",
      " 37  power_stamina               7600 non-null   int64  \n",
      " 38  power_strength              7600 non-null   int64  \n",
      " 39  power_long_shots            7600 non-null   int64  \n",
      " 40  mentality_aggression        7600 non-null   int64  \n",
      " 41  mentality_interceptions     7600 non-null   int64  \n",
      " 42  mentality_positioning       7600 non-null   int64  \n",
      " 43  mentality_vision            7600 non-null   int64  \n",
      " 44  mentality_penalties         7600 non-null   int64  \n",
      " 45  defending_marking           7600 non-null   int64  \n",
      " 46  defending_standing_tackle   7600 non-null   int64  \n",
      " 47  defending_sliding_tackle    7600 non-null   int64  \n",
      " 48  int_work_att                7600 non-null   int64  \n",
      " 49  int_work_def                7600 non-null   int64  \n",
      " 50  left                        7600 non-null   int64  \n",
      " 51  right                       7600 non-null   int64  \n",
      " 52  away                        7600 non-null   float64\n",
      " 53  home                        7600 non-null   float64\n",
      "dtypes: float64(2), int64(48), object(4)\n",
      "memory usage: 3.1+ MB\n"
     ]
    }
   ],
   "source": [
    "df.info(3)"
   ]
  },
  {
   "cell_type": "code",
   "execution_count": 119,
   "metadata": {},
   "outputs": [],
   "source": [
    "matches_df = df.drop(['Date', 'League', 'club', 'Name', 'jersey_num'], axis=1)"
   ]
  },
  {
   "cell_type": "code",
   "execution_count": 120,
   "metadata": {},
   "outputs": [
    {
     "name": "stdout",
     "output_type": "stream",
     "text": [
      "<class 'pandas.core.frame.DataFrame'>\n",
      "RangeIndex: 7600 entries, 0 to 7599\n",
      "Data columns (total 49 columns):\n",
      " #   Column                      Non-Null Count  Dtype  \n",
      "---  ------                      --------------  -----  \n",
      " 0   match_id                    7600 non-null   int64  \n",
      " 1   Goals                       7600 non-null   int64  \n",
      " 2   pos_left                    7600 non-null   int64  \n",
      " 3   pos_top                     7600 non-null   int64  \n",
      " 4   height_cm                   7600 non-null   int64  \n",
      " 5   weight_kg                   7600 non-null   int64  \n",
      " 6   overall                     7600 non-null   int64  \n",
      " 7   potential                   7600 non-null   int64  \n",
      " 8   weak_foot                   7600 non-null   int64  \n",
      " 9   pace                        7600 non-null   int64  \n",
      " 10  shooting                    7600 non-null   int64  \n",
      " 11  passing                     7600 non-null   int64  \n",
      " 12  dribbling                   7600 non-null   int64  \n",
      " 13  defending                   7600 non-null   int64  \n",
      " 14  physic                      7600 non-null   int64  \n",
      " 15  attacking_crossing          7600 non-null   int64  \n",
      " 16  attacking_finishing         7600 non-null   int64  \n",
      " 17  attacking_heading_accuracy  7600 non-null   int64  \n",
      " 18  attacking_short_passing     7600 non-null   int64  \n",
      " 19  attacking_volleys           7600 non-null   int64  \n",
      " 20  skill_dribbling             7600 non-null   int64  \n",
      " 21  skill_curve                 7600 non-null   int64  \n",
      " 22  skill_fk_accuracy           7600 non-null   int64  \n",
      " 23  skill_long_passing          7600 non-null   int64  \n",
      " 24  skill_ball_control          7600 non-null   int64  \n",
      " 25  movement_acceleration       7600 non-null   int64  \n",
      " 26  movement_sprint_speed       7600 non-null   int64  \n",
      " 27  movement_agility            7600 non-null   int64  \n",
      " 28  movement_reactions          7600 non-null   int64  \n",
      " 29  movement_balance            7600 non-null   int64  \n",
      " 30  power_shot_power            7600 non-null   int64  \n",
      " 31  power_jumping               7600 non-null   int64  \n",
      " 32  power_stamina               7600 non-null   int64  \n",
      " 33  power_strength              7600 non-null   int64  \n",
      " 34  power_long_shots            7600 non-null   int64  \n",
      " 35  mentality_aggression        7600 non-null   int64  \n",
      " 36  mentality_interceptions     7600 non-null   int64  \n",
      " 37  mentality_positioning       7600 non-null   int64  \n",
      " 38  mentality_vision            7600 non-null   int64  \n",
      " 39  mentality_penalties         7600 non-null   int64  \n",
      " 40  defending_marking           7600 non-null   int64  \n",
      " 41  defending_standing_tackle   7600 non-null   int64  \n",
      " 42  defending_sliding_tackle    7600 non-null   int64  \n",
      " 43  int_work_att                7600 non-null   int64  \n",
      " 44  int_work_def                7600 non-null   int64  \n",
      " 45  left                        7600 non-null   int64  \n",
      " 46  right                       7600 non-null   int64  \n",
      " 47  away                        7600 non-null   float64\n",
      " 48  home                        7600 non-null   float64\n",
      "dtypes: float64(2), int64(47)\n",
      "memory usage: 2.8 MB\n"
     ]
    }
   ],
   "source": [
    "matches_df.info()"
   ]
  },
  {
   "cell_type": "markdown",
   "metadata": {},
   "source": [
    "## Convertimos las coordinadas de los jugadores en una \"imagen\"\n"
   ]
  },
  {
   "cell_type": "code",
   "execution_count": 121,
   "metadata": {},
   "outputs": [
    {
     "data": {
      "text/plain": [
       "(9, 12, 45)"
      ]
     },
     "execution_count": 121,
     "metadata": {},
     "output_type": "execute_result"
    }
   ],
   "source": [
    "feat_num = 45\n",
    "cancha = np.zeros(( 9, 12, feat_num),dtype=int)\n",
    "#cancha.tolist()\n",
    "cancha.shape"
   ]
  },
  {
   "cell_type": "code",
   "execution_count": 122,
   "metadata": {},
   "outputs": [
    {
     "data": {
      "text/plain": [
       "array([[0, 0, 0, 0, 0, 0, 0, 0, 0, 0, 0, 0],\n",
       "       [0, 0, 1, 0, 0, 0, 0, 0, 0, 0, 0, 0],\n",
       "       [0, 0, 0, 0, 0, 0, 0, 0, 0, 0, 0, 0],\n",
       "       [0, 0, 0, 0, 0, 0, 0, 0, 0, 0, 0, 0],\n",
       "       [0, 0, 0, 0, 0, 0, 0, 0, 0, 0, 0, 0],\n",
       "       [0, 0, 0, 0, 0, 0, 0, 0, 0, 0, 0, 0],\n",
       "       [0, 0, 0, 0, 0, 0, 0, 0, 0, 0, 0, 0],\n",
       "       [0, 0, 0, 0, 0, 0, 0, 0, 0, 0, 0, 0],\n",
       "       [0, 0, 0, 0, 0, 0, 0, 0, 0, 0, 0, 0]])"
      ]
     },
     "execution_count": 122,
     "metadata": {},
     "output_type": "execute_result"
    }
   ],
   "source": [
    "prueba = cancha.copy()\n",
    "prueba[1, 2, 0] = 1\n",
    "prueba[:,:,0]"
   ]
  },
  {
   "cell_type": "code",
   "execution_count": 123,
   "metadata": {},
   "outputs": [],
   "source": [
    "#dict_match_df[0].pos_left"
   ]
  },
  {
   "cell_type": "code",
   "execution_count": 124,
   "metadata": {},
   "outputs": [],
   "source": [
    "#cancha[0, dict_match_df[0].pos_top, dict_match_df[0].pos_left] = 1\n",
    "#cancha"
   ]
  },
  {
   "cell_type": "code",
   "execution_count": 125,
   "metadata": {},
   "outputs": [],
   "source": [
    "#dict_match_df[0].drop(['pos_top','pos_left'], axis=1).info()"
   ]
  },
  {
   "cell_type": "code",
   "execution_count": 126,
   "metadata": {},
   "outputs": [],
   "source": [
    "#feat_num = 3\n",
    "#cancha = np.zeros((feat_num, 9, 12), dtype=int)\n",
    "#cancha[0, dict_match_df[0].pos_top, dict_match_df[0].pos_left] = 2\n",
    "#dict_match_df[0].drop(['pos_top','pos_left'], axis=1).head()\n",
    "#cancha"
   ]
  },
  {
   "cell_type": "code",
   "execution_count": 127,
   "metadata": {},
   "outputs": [
    {
     "data": {
      "text/html": [
       "<div>\n",
       "<style scoped>\n",
       "    .dataframe tbody tr th:only-of-type {\n",
       "        vertical-align: middle;\n",
       "    }\n",
       "\n",
       "    .dataframe tbody tr th {\n",
       "        vertical-align: top;\n",
       "    }\n",
       "\n",
       "    .dataframe thead th {\n",
       "        text-align: right;\n",
       "    }\n",
       "</style>\n",
       "<table border=\"1\" class=\"dataframe\">\n",
       "  <thead>\n",
       "    <tr style=\"text-align: right;\">\n",
       "      <th></th>\n",
       "      <th>match_id</th>\n",
       "      <th>Goals</th>\n",
       "      <th>pos_left</th>\n",
       "      <th>pos_top</th>\n",
       "      <th>height_cm</th>\n",
       "      <th>weight_kg</th>\n",
       "      <th>overall</th>\n",
       "      <th>potential</th>\n",
       "      <th>weak_foot</th>\n",
       "      <th>pace</th>\n",
       "      <th>...</th>\n",
       "      <th>mentality_penalties</th>\n",
       "      <th>defending_marking</th>\n",
       "      <th>defending_standing_tackle</th>\n",
       "      <th>defending_sliding_tackle</th>\n",
       "      <th>int_work_att</th>\n",
       "      <th>int_work_def</th>\n",
       "      <th>left</th>\n",
       "      <th>right</th>\n",
       "      <th>away</th>\n",
       "      <th>home</th>\n",
       "    </tr>\n",
       "  </thead>\n",
       "  <tbody>\n",
       "    <tr>\n",
       "      <th>count</th>\n",
       "      <td>7600.000000</td>\n",
       "      <td>7600.000000</td>\n",
       "      <td>7600.000000</td>\n",
       "      <td>7600.0000</td>\n",
       "      <td>7600.000000</td>\n",
       "      <td>7600.000000</td>\n",
       "      <td>7600.000000</td>\n",
       "      <td>7600.000000</td>\n",
       "      <td>7600.000000</td>\n",
       "      <td>7600.000000</td>\n",
       "      <td>...</td>\n",
       "      <td>7600.000000</td>\n",
       "      <td>7600.000000</td>\n",
       "      <td>7600.000000</td>\n",
       "      <td>7600.000000</td>\n",
       "      <td>7600.000000</td>\n",
       "      <td>7600.000000</td>\n",
       "      <td>7600.000000</td>\n",
       "      <td>7600.000000</td>\n",
       "      <td>7600.000000</td>\n",
       "      <td>7600.000000</td>\n",
       "    </tr>\n",
       "    <tr>\n",
       "      <th>mean</th>\n",
       "      <td>189.500000</td>\n",
       "      <td>1.282895</td>\n",
       "      <td>5.515132</td>\n",
       "      <td>4.0000</td>\n",
       "      <td>182.210921</td>\n",
       "      <td>76.616974</td>\n",
       "      <td>75.225132</td>\n",
       "      <td>78.092237</td>\n",
       "      <td>3.122105</td>\n",
       "      <td>71.147500</td>\n",
       "      <td>...</td>\n",
       "      <td>60.860526</td>\n",
       "      <td>57.388026</td>\n",
       "      <td>61.415789</td>\n",
       "      <td>58.807368</td>\n",
       "      <td>1.305000</td>\n",
       "      <td>1.233158</td>\n",
       "      <td>0.248684</td>\n",
       "      <td>0.751316</td>\n",
       "      <td>0.500000</td>\n",
       "      <td>0.500000</td>\n",
       "    </tr>\n",
       "    <tr>\n",
       "      <th>std</th>\n",
       "      <td>109.703389</td>\n",
       "      <td>1.184504</td>\n",
       "      <td>3.701635</td>\n",
       "      <td>2.5537</td>\n",
       "      <td>6.689796</td>\n",
       "      <td>7.380812</td>\n",
       "      <td>5.186454</td>\n",
       "      <td>4.813899</td>\n",
       "      <td>0.659657</td>\n",
       "      <td>12.287363</td>\n",
       "      <td>...</td>\n",
       "      <td>13.826116</td>\n",
       "      <td>20.469810</td>\n",
       "      <td>20.251011</td>\n",
       "      <td>20.410816</td>\n",
       "      <td>0.553852</td>\n",
       "      <td>0.581873</td>\n",
       "      <td>0.432279</td>\n",
       "      <td>0.432279</td>\n",
       "      <td>0.500033</td>\n",
       "      <td>0.500033</td>\n",
       "    </tr>\n",
       "    <tr>\n",
       "      <th>min</th>\n",
       "      <td>0.000000</td>\n",
       "      <td>0.000000</td>\n",
       "      <td>0.000000</td>\n",
       "      <td>0.0000</td>\n",
       "      <td>162.000000</td>\n",
       "      <td>60.000000</td>\n",
       "      <td>12.000000</td>\n",
       "      <td>62.000000</td>\n",
       "      <td>1.000000</td>\n",
       "      <td>23.000000</td>\n",
       "      <td>...</td>\n",
       "      <td>21.000000</td>\n",
       "      <td>13.000000</td>\n",
       "      <td>17.000000</td>\n",
       "      <td>15.000000</td>\n",
       "      <td>0.000000</td>\n",
       "      <td>0.000000</td>\n",
       "      <td>0.000000</td>\n",
       "      <td>0.000000</td>\n",
       "      <td>0.000000</td>\n",
       "      <td>0.000000</td>\n",
       "    </tr>\n",
       "    <tr>\n",
       "      <th>25%</th>\n",
       "      <td>94.750000</td>\n",
       "      <td>0.000000</td>\n",
       "      <td>2.000000</td>\n",
       "      <td>2.0000</td>\n",
       "      <td>178.000000</td>\n",
       "      <td>72.000000</td>\n",
       "      <td>72.000000</td>\n",
       "      <td>75.000000</td>\n",
       "      <td>3.000000</td>\n",
       "      <td>66.000000</td>\n",
       "      <td>...</td>\n",
       "      <td>51.000000</td>\n",
       "      <td>37.000000</td>\n",
       "      <td>45.000000</td>\n",
       "      <td>40.000000</td>\n",
       "      <td>1.000000</td>\n",
       "      <td>1.000000</td>\n",
       "      <td>0.000000</td>\n",
       "      <td>1.000000</td>\n",
       "      <td>0.000000</td>\n",
       "      <td>0.000000</td>\n",
       "    </tr>\n",
       "    <tr>\n",
       "      <th>50%</th>\n",
       "      <td>189.500000</td>\n",
       "      <td>1.000000</td>\n",
       "      <td>5.500000</td>\n",
       "      <td>4.0000</td>\n",
       "      <td>183.000000</td>\n",
       "      <td>76.000000</td>\n",
       "      <td>75.000000</td>\n",
       "      <td>78.000000</td>\n",
       "      <td>3.000000</td>\n",
       "      <td>73.000000</td>\n",
       "      <td>...</td>\n",
       "      <td>62.000000</td>\n",
       "      <td>66.000000</td>\n",
       "      <td>71.000000</td>\n",
       "      <td>67.000000</td>\n",
       "      <td>1.000000</td>\n",
       "      <td>1.000000</td>\n",
       "      <td>0.000000</td>\n",
       "      <td>1.000000</td>\n",
       "      <td>0.500000</td>\n",
       "      <td>0.500000</td>\n",
       "    </tr>\n",
       "    <tr>\n",
       "      <th>75%</th>\n",
       "      <td>284.250000</td>\n",
       "      <td>2.000000</td>\n",
       "      <td>9.000000</td>\n",
       "      <td>6.0000</td>\n",
       "      <td>187.000000</td>\n",
       "      <td>82.000000</td>\n",
       "      <td>79.000000</td>\n",
       "      <td>82.000000</td>\n",
       "      <td>3.000000</td>\n",
       "      <td>79.000000</td>\n",
       "      <td>...</td>\n",
       "      <td>71.000000</td>\n",
       "      <td>74.000000</td>\n",
       "      <td>77.000000</td>\n",
       "      <td>75.000000</td>\n",
       "      <td>2.000000</td>\n",
       "      <td>2.000000</td>\n",
       "      <td>0.000000</td>\n",
       "      <td>1.000000</td>\n",
       "      <td>1.000000</td>\n",
       "      <td>1.000000</td>\n",
       "    </tr>\n",
       "    <tr>\n",
       "      <th>max</th>\n",
       "      <td>379.000000</td>\n",
       "      <td>8.000000</td>\n",
       "      <td>11.000000</td>\n",
       "      <td>8.0000</td>\n",
       "      <td>201.000000</td>\n",
       "      <td>95.000000</td>\n",
       "      <td>88.000000</td>\n",
       "      <td>90.000000</td>\n",
       "      <td>5.000000</td>\n",
       "      <td>96.000000</td>\n",
       "      <td>...</td>\n",
       "      <td>95.000000</td>\n",
       "      <td>87.000000</td>\n",
       "      <td>90.000000</td>\n",
       "      <td>86.000000</td>\n",
       "      <td>2.000000</td>\n",
       "      <td>2.000000</td>\n",
       "      <td>1.000000</td>\n",
       "      <td>1.000000</td>\n",
       "      <td>1.000000</td>\n",
       "      <td>1.000000</td>\n",
       "    </tr>\n",
       "  </tbody>\n",
       "</table>\n",
       "<p>8 rows × 49 columns</p>\n",
       "</div>"
      ],
      "text/plain": [
       "          match_id        Goals     pos_left    pos_top    height_cm  \\\n",
       "count  7600.000000  7600.000000  7600.000000  7600.0000  7600.000000   \n",
       "mean    189.500000     1.282895     5.515132     4.0000   182.210921   \n",
       "std     109.703389     1.184504     3.701635     2.5537     6.689796   \n",
       "min       0.000000     0.000000     0.000000     0.0000   162.000000   \n",
       "25%      94.750000     0.000000     2.000000     2.0000   178.000000   \n",
       "50%     189.500000     1.000000     5.500000     4.0000   183.000000   \n",
       "75%     284.250000     2.000000     9.000000     6.0000   187.000000   \n",
       "max     379.000000     8.000000    11.000000     8.0000   201.000000   \n",
       "\n",
       "         weight_kg      overall    potential    weak_foot         pace  ...  \\\n",
       "count  7600.000000  7600.000000  7600.000000  7600.000000  7600.000000  ...   \n",
       "mean     76.616974    75.225132    78.092237     3.122105    71.147500  ...   \n",
       "std       7.380812     5.186454     4.813899     0.659657    12.287363  ...   \n",
       "min      60.000000    12.000000    62.000000     1.000000    23.000000  ...   \n",
       "25%      72.000000    72.000000    75.000000     3.000000    66.000000  ...   \n",
       "50%      76.000000    75.000000    78.000000     3.000000    73.000000  ...   \n",
       "75%      82.000000    79.000000    82.000000     3.000000    79.000000  ...   \n",
       "max      95.000000    88.000000    90.000000     5.000000    96.000000  ...   \n",
       "\n",
       "       mentality_penalties  defending_marking  defending_standing_tackle  \\\n",
       "count          7600.000000        7600.000000                7600.000000   \n",
       "mean             60.860526          57.388026                  61.415789   \n",
       "std              13.826116          20.469810                  20.251011   \n",
       "min              21.000000          13.000000                  17.000000   \n",
       "25%              51.000000          37.000000                  45.000000   \n",
       "50%              62.000000          66.000000                  71.000000   \n",
       "75%              71.000000          74.000000                  77.000000   \n",
       "max              95.000000          87.000000                  90.000000   \n",
       "\n",
       "       defending_sliding_tackle  int_work_att  int_work_def         left  \\\n",
       "count               7600.000000   7600.000000   7600.000000  7600.000000   \n",
       "mean                  58.807368      1.305000      1.233158     0.248684   \n",
       "std                   20.410816      0.553852      0.581873     0.432279   \n",
       "min                   15.000000      0.000000      0.000000     0.000000   \n",
       "25%                   40.000000      1.000000      1.000000     0.000000   \n",
       "50%                   67.000000      1.000000      1.000000     0.000000   \n",
       "75%                   75.000000      2.000000      2.000000     0.000000   \n",
       "max                   86.000000      2.000000      2.000000     1.000000   \n",
       "\n",
       "             right         away         home  \n",
       "count  7600.000000  7600.000000  7600.000000  \n",
       "mean      0.751316     0.500000     0.500000  \n",
       "std       0.432279     0.500033     0.500033  \n",
       "min       0.000000     0.000000     0.000000  \n",
       "25%       1.000000     0.000000     0.000000  \n",
       "50%       1.000000     0.500000     0.500000  \n",
       "75%       1.000000     1.000000     1.000000  \n",
       "max       1.000000     1.000000     1.000000  \n",
       "\n",
       "[8 rows x 49 columns]"
      ]
     },
     "execution_count": 127,
     "metadata": {},
     "output_type": "execute_result"
    }
   ],
   "source": [
    "matches_df.describe()"
   ]
  },
  {
   "cell_type": "code",
   "execution_count": 128,
   "metadata": {},
   "outputs": [
    {
     "data": {
      "text/html": [
       "<div>\n",
       "<style scoped>\n",
       "    .dataframe tbody tr th:only-of-type {\n",
       "        vertical-align: middle;\n",
       "    }\n",
       "\n",
       "    .dataframe tbody tr th {\n",
       "        vertical-align: top;\n",
       "    }\n",
       "\n",
       "    .dataframe thead th {\n",
       "        text-align: right;\n",
       "    }\n",
       "</style>\n",
       "<table border=\"1\" class=\"dataframe\">\n",
       "  <thead>\n",
       "    <tr style=\"text-align: right;\">\n",
       "      <th></th>\n",
       "      <th></th>\n",
       "      <th>Goals</th>\n",
       "      <th>pos_left</th>\n",
       "      <th>pos_top</th>\n",
       "      <th>height_cm</th>\n",
       "      <th>weight_kg</th>\n",
       "      <th>overall</th>\n",
       "      <th>potential</th>\n",
       "      <th>weak_foot</th>\n",
       "      <th>pace</th>\n",
       "      <th>shooting</th>\n",
       "      <th>...</th>\n",
       "      <th>mentality_vision</th>\n",
       "      <th>mentality_penalties</th>\n",
       "      <th>defending_marking</th>\n",
       "      <th>defending_standing_tackle</th>\n",
       "      <th>defending_sliding_tackle</th>\n",
       "      <th>int_work_att</th>\n",
       "      <th>int_work_def</th>\n",
       "      <th>left</th>\n",
       "      <th>right</th>\n",
       "      <th>away</th>\n",
       "    </tr>\n",
       "    <tr>\n",
       "      <th>match_id</th>\n",
       "      <th>home</th>\n",
       "      <th></th>\n",
       "      <th></th>\n",
       "      <th></th>\n",
       "      <th></th>\n",
       "      <th></th>\n",
       "      <th></th>\n",
       "      <th></th>\n",
       "      <th></th>\n",
       "      <th></th>\n",
       "      <th></th>\n",
       "      <th></th>\n",
       "      <th></th>\n",
       "      <th></th>\n",
       "      <th></th>\n",
       "      <th></th>\n",
       "      <th></th>\n",
       "      <th></th>\n",
       "      <th></th>\n",
       "      <th></th>\n",
       "      <th></th>\n",
       "      <th></th>\n",
       "    </tr>\n",
       "  </thead>\n",
       "  <tbody>\n",
       "    <tr>\n",
       "      <th rowspan=\"2\" valign=\"top\">0</th>\n",
       "      <th>0.0</th>\n",
       "      <td>0.0</td>\n",
       "      <td>9.3</td>\n",
       "      <td>4.0</td>\n",
       "      <td>182.7</td>\n",
       "      <td>76.6</td>\n",
       "      <td>69.2</td>\n",
       "      <td>71.3</td>\n",
       "      <td>3.2</td>\n",
       "      <td>70.1</td>\n",
       "      <td>57.5</td>\n",
       "      <td>...</td>\n",
       "      <td>63.3</td>\n",
       "      <td>53.4</td>\n",
       "      <td>54.6</td>\n",
       "      <td>55.3</td>\n",
       "      <td>54.5</td>\n",
       "      <td>1.3</td>\n",
       "      <td>1.4</td>\n",
       "      <td>0.4</td>\n",
       "      <td>0.6</td>\n",
       "      <td>1.0</td>\n",
       "    </tr>\n",
       "    <tr>\n",
       "      <th>1.0</th>\n",
       "      <td>3.0</td>\n",
       "      <td>2.1</td>\n",
       "      <td>4.0</td>\n",
       "      <td>178.9</td>\n",
       "      <td>70.0</td>\n",
       "      <td>78.9</td>\n",
       "      <td>82.2</td>\n",
       "      <td>3.2</td>\n",
       "      <td>70.9</td>\n",
       "      <td>64.2</td>\n",
       "      <td>...</td>\n",
       "      <td>69.2</td>\n",
       "      <td>65.5</td>\n",
       "      <td>57.0</td>\n",
       "      <td>62.5</td>\n",
       "      <td>59.8</td>\n",
       "      <td>1.6</td>\n",
       "      <td>1.3</td>\n",
       "      <td>0.2</td>\n",
       "      <td>0.8</td>\n",
       "      <td>0.0</td>\n",
       "    </tr>\n",
       "    <tr>\n",
       "      <th rowspan=\"2\" valign=\"top\">1</th>\n",
       "      <th>0.0</th>\n",
       "      <td>2.0</td>\n",
       "      <td>8.4</td>\n",
       "      <td>4.0</td>\n",
       "      <td>183.1</td>\n",
       "      <td>77.1</td>\n",
       "      <td>76.9</td>\n",
       "      <td>80.1</td>\n",
       "      <td>3.2</td>\n",
       "      <td>74.3</td>\n",
       "      <td>64.8</td>\n",
       "      <td>...</td>\n",
       "      <td>69.6</td>\n",
       "      <td>64.4</td>\n",
       "      <td>52.9</td>\n",
       "      <td>61.2</td>\n",
       "      <td>55.8</td>\n",
       "      <td>1.4</td>\n",
       "      <td>0.9</td>\n",
       "      <td>0.2</td>\n",
       "      <td>0.8</td>\n",
       "      <td>1.0</td>\n",
       "    </tr>\n",
       "    <tr>\n",
       "      <th>1.0</th>\n",
       "      <td>1.0</td>\n",
       "      <td>2.8</td>\n",
       "      <td>4.0</td>\n",
       "      <td>182.0</td>\n",
       "      <td>75.9</td>\n",
       "      <td>74.7</td>\n",
       "      <td>77.7</td>\n",
       "      <td>2.9</td>\n",
       "      <td>71.5</td>\n",
       "      <td>60.8</td>\n",
       "      <td>...</td>\n",
       "      <td>62.7</td>\n",
       "      <td>62.0</td>\n",
       "      <td>54.6</td>\n",
       "      <td>61.1</td>\n",
       "      <td>58.6</td>\n",
       "      <td>1.2</td>\n",
       "      <td>1.1</td>\n",
       "      <td>0.4</td>\n",
       "      <td>0.6</td>\n",
       "      <td>0.0</td>\n",
       "    </tr>\n",
       "    <tr>\n",
       "      <th>2</th>\n",
       "      <th>0.0</th>\n",
       "      <td>1.0</td>\n",
       "      <td>9.3</td>\n",
       "      <td>4.0</td>\n",
       "      <td>183.3</td>\n",
       "      <td>77.7</td>\n",
       "      <td>74.3</td>\n",
       "      <td>77.7</td>\n",
       "      <td>3.1</td>\n",
       "      <td>71.2</td>\n",
       "      <td>60.4</td>\n",
       "      <td>...</td>\n",
       "      <td>61.1</td>\n",
       "      <td>60.4</td>\n",
       "      <td>56.6</td>\n",
       "      <td>61.6</td>\n",
       "      <td>61.7</td>\n",
       "      <td>1.2</td>\n",
       "      <td>1.6</td>\n",
       "      <td>0.1</td>\n",
       "      <td>0.9</td>\n",
       "      <td>1.0</td>\n",
       "    </tr>\n",
       "    <tr>\n",
       "      <th>...</th>\n",
       "      <th>...</th>\n",
       "      <td>...</td>\n",
       "      <td>...</td>\n",
       "      <td>...</td>\n",
       "      <td>...</td>\n",
       "      <td>...</td>\n",
       "      <td>...</td>\n",
       "      <td>...</td>\n",
       "      <td>...</td>\n",
       "      <td>...</td>\n",
       "      <td>...</td>\n",
       "      <td>...</td>\n",
       "      <td>...</td>\n",
       "      <td>...</td>\n",
       "      <td>...</td>\n",
       "      <td>...</td>\n",
       "      <td>...</td>\n",
       "      <td>...</td>\n",
       "      <td>...</td>\n",
       "      <td>...</td>\n",
       "      <td>...</td>\n",
       "      <td>...</td>\n",
       "    </tr>\n",
       "    <tr>\n",
       "      <th>377</th>\n",
       "      <th>1.0</th>\n",
       "      <td>1.0</td>\n",
       "      <td>2.1</td>\n",
       "      <td>4.0</td>\n",
       "      <td>184.6</td>\n",
       "      <td>78.2</td>\n",
       "      <td>76.7</td>\n",
       "      <td>80.9</td>\n",
       "      <td>3.2</td>\n",
       "      <td>73.7</td>\n",
       "      <td>65.4</td>\n",
       "      <td>...</td>\n",
       "      <td>70.3</td>\n",
       "      <td>65.6</td>\n",
       "      <td>52.5</td>\n",
       "      <td>59.2</td>\n",
       "      <td>53.8</td>\n",
       "      <td>1.5</td>\n",
       "      <td>1.1</td>\n",
       "      <td>0.3</td>\n",
       "      <td>0.7</td>\n",
       "      <td>0.0</td>\n",
       "    </tr>\n",
       "    <tr>\n",
       "      <th rowspan=\"2\" valign=\"top\">378</th>\n",
       "      <th>0.0</th>\n",
       "      <td>2.0</td>\n",
       "      <td>9.3</td>\n",
       "      <td>4.0</td>\n",
       "      <td>185.1</td>\n",
       "      <td>77.9</td>\n",
       "      <td>73.1</td>\n",
       "      <td>75.4</td>\n",
       "      <td>3.0</td>\n",
       "      <td>70.1</td>\n",
       "      <td>57.4</td>\n",
       "      <td>...</td>\n",
       "      <td>58.5</td>\n",
       "      <td>59.1</td>\n",
       "      <td>56.2</td>\n",
       "      <td>59.6</td>\n",
       "      <td>56.1</td>\n",
       "      <td>1.2</td>\n",
       "      <td>1.2</td>\n",
       "      <td>0.1</td>\n",
       "      <td>0.9</td>\n",
       "      <td>1.0</td>\n",
       "    </tr>\n",
       "    <tr>\n",
       "      <th>1.0</th>\n",
       "      <td>2.0</td>\n",
       "      <td>2.1</td>\n",
       "      <td>4.0</td>\n",
       "      <td>180.7</td>\n",
       "      <td>79.1</td>\n",
       "      <td>72.6</td>\n",
       "      <td>75.5</td>\n",
       "      <td>3.0</td>\n",
       "      <td>69.3</td>\n",
       "      <td>61.4</td>\n",
       "      <td>...</td>\n",
       "      <td>62.3</td>\n",
       "      <td>66.1</td>\n",
       "      <td>57.9</td>\n",
       "      <td>63.2</td>\n",
       "      <td>60.1</td>\n",
       "      <td>1.2</td>\n",
       "      <td>0.9</td>\n",
       "      <td>0.3</td>\n",
       "      <td>0.7</td>\n",
       "      <td>0.0</td>\n",
       "    </tr>\n",
       "    <tr>\n",
       "      <th rowspan=\"2\" valign=\"top\">379</th>\n",
       "      <th>0.0</th>\n",
       "      <td>1.0</td>\n",
       "      <td>8.4</td>\n",
       "      <td>4.0</td>\n",
       "      <td>181.2</td>\n",
       "      <td>76.1</td>\n",
       "      <td>83.2</td>\n",
       "      <td>84.3</td>\n",
       "      <td>3.3</td>\n",
       "      <td>77.8</td>\n",
       "      <td>65.0</td>\n",
       "      <td>...</td>\n",
       "      <td>71.4</td>\n",
       "      <td>64.4</td>\n",
       "      <td>58.2</td>\n",
       "      <td>59.7</td>\n",
       "      <td>60.4</td>\n",
       "      <td>1.5</td>\n",
       "      <td>1.1</td>\n",
       "      <td>0.3</td>\n",
       "      <td>0.7</td>\n",
       "      <td>1.0</td>\n",
       "    </tr>\n",
       "    <tr>\n",
       "      <th>1.0</th>\n",
       "      <td>2.0</td>\n",
       "      <td>2.0</td>\n",
       "      <td>4.0</td>\n",
       "      <td>181.7</td>\n",
       "      <td>75.4</td>\n",
       "      <td>74.1</td>\n",
       "      <td>76.5</td>\n",
       "      <td>2.9</td>\n",
       "      <td>71.4</td>\n",
       "      <td>60.9</td>\n",
       "      <td>...</td>\n",
       "      <td>65.4</td>\n",
       "      <td>64.9</td>\n",
       "      <td>59.6</td>\n",
       "      <td>60.5</td>\n",
       "      <td>60.0</td>\n",
       "      <td>1.2</td>\n",
       "      <td>1.2</td>\n",
       "      <td>0.2</td>\n",
       "      <td>0.8</td>\n",
       "      <td>0.0</td>\n",
       "    </tr>\n",
       "  </tbody>\n",
       "</table>\n",
       "<p>760 rows × 47 columns</p>\n",
       "</div>"
      ],
      "text/plain": [
       "               Goals  pos_left  pos_top  height_cm  weight_kg  overall  \\\n",
       "match_id home                                                            \n",
       "0        0.0     0.0       9.3      4.0      182.7       76.6     69.2   \n",
       "         1.0     3.0       2.1      4.0      178.9       70.0     78.9   \n",
       "1        0.0     2.0       8.4      4.0      183.1       77.1     76.9   \n",
       "         1.0     1.0       2.8      4.0      182.0       75.9     74.7   \n",
       "2        0.0     1.0       9.3      4.0      183.3       77.7     74.3   \n",
       "...              ...       ...      ...        ...        ...      ...   \n",
       "377      1.0     1.0       2.1      4.0      184.6       78.2     76.7   \n",
       "378      0.0     2.0       9.3      4.0      185.1       77.9     73.1   \n",
       "         1.0     2.0       2.1      4.0      180.7       79.1     72.6   \n",
       "379      0.0     1.0       8.4      4.0      181.2       76.1     83.2   \n",
       "         1.0     2.0       2.0      4.0      181.7       75.4     74.1   \n",
       "\n",
       "               potential  weak_foot  pace  shooting  ...  mentality_vision  \\\n",
       "match_id home                                        ...                     \n",
       "0        0.0        71.3        3.2  70.1      57.5  ...              63.3   \n",
       "         1.0        82.2        3.2  70.9      64.2  ...              69.2   \n",
       "1        0.0        80.1        3.2  74.3      64.8  ...              69.6   \n",
       "         1.0        77.7        2.9  71.5      60.8  ...              62.7   \n",
       "2        0.0        77.7        3.1  71.2      60.4  ...              61.1   \n",
       "...                  ...        ...   ...       ...  ...               ...   \n",
       "377      1.0        80.9        3.2  73.7      65.4  ...              70.3   \n",
       "378      0.0        75.4        3.0  70.1      57.4  ...              58.5   \n",
       "         1.0        75.5        3.0  69.3      61.4  ...              62.3   \n",
       "379      0.0        84.3        3.3  77.8      65.0  ...              71.4   \n",
       "         1.0        76.5        2.9  71.4      60.9  ...              65.4   \n",
       "\n",
       "               mentality_penalties  defending_marking  \\\n",
       "match_id home                                           \n",
       "0        0.0                  53.4               54.6   \n",
       "         1.0                  65.5               57.0   \n",
       "1        0.0                  64.4               52.9   \n",
       "         1.0                  62.0               54.6   \n",
       "2        0.0                  60.4               56.6   \n",
       "...                            ...                ...   \n",
       "377      1.0                  65.6               52.5   \n",
       "378      0.0                  59.1               56.2   \n",
       "         1.0                  66.1               57.9   \n",
       "379      0.0                  64.4               58.2   \n",
       "         1.0                  64.9               59.6   \n",
       "\n",
       "               defending_standing_tackle  defending_sliding_tackle  \\\n",
       "match_id home                                                        \n",
       "0        0.0                        55.3                      54.5   \n",
       "         1.0                        62.5                      59.8   \n",
       "1        0.0                        61.2                      55.8   \n",
       "         1.0                        61.1                      58.6   \n",
       "2        0.0                        61.6                      61.7   \n",
       "...                                  ...                       ...   \n",
       "377      1.0                        59.2                      53.8   \n",
       "378      0.0                        59.6                      56.1   \n",
       "         1.0                        63.2                      60.1   \n",
       "379      0.0                        59.7                      60.4   \n",
       "         1.0                        60.5                      60.0   \n",
       "\n",
       "               int_work_att  int_work_def  left  right  away  \n",
       "match_id home                                                 \n",
       "0        0.0            1.3           1.4   0.4    0.6   1.0  \n",
       "         1.0            1.6           1.3   0.2    0.8   0.0  \n",
       "1        0.0            1.4           0.9   0.2    0.8   1.0  \n",
       "         1.0            1.2           1.1   0.4    0.6   0.0  \n",
       "2        0.0            1.2           1.6   0.1    0.9   1.0  \n",
       "...                     ...           ...   ...    ...   ...  \n",
       "377      1.0            1.5           1.1   0.3    0.7   0.0  \n",
       "378      0.0            1.2           1.2   0.1    0.9   1.0  \n",
       "         1.0            1.2           0.9   0.3    0.7   0.0  \n",
       "379      0.0            1.5           1.1   0.3    0.7   1.0  \n",
       "         1.0            1.2           1.2   0.2    0.8   0.0  \n",
       "\n",
       "[760 rows x 47 columns]"
      ]
     },
     "execution_count": 128,
     "metadata": {},
     "output_type": "execute_result"
    }
   ],
   "source": [
    "matches_df.groupby(['match_id','home']).mean()"
   ]
  },
  {
   "cell_type": "code",
   "execution_count": 129,
   "metadata": {},
   "outputs": [
    {
     "data": {
      "text/html": [
       "<div>\n",
       "<style scoped>\n",
       "    .dataframe tbody tr th:only-of-type {\n",
       "        vertical-align: middle;\n",
       "    }\n",
       "\n",
       "    .dataframe tbody tr th {\n",
       "        vertical-align: top;\n",
       "    }\n",
       "\n",
       "    .dataframe thead th {\n",
       "        text-align: right;\n",
       "    }\n",
       "</style>\n",
       "<table border=\"1\" class=\"dataframe\">\n",
       "  <thead>\n",
       "    <tr style=\"text-align: right;\">\n",
       "      <th></th>\n",
       "      <th>match_id</th>\n",
       "      <th>Goals</th>\n",
       "      <th>pos_left</th>\n",
       "      <th>pos_top</th>\n",
       "      <th>height_cm</th>\n",
       "      <th>weight_kg</th>\n",
       "      <th>overall</th>\n",
       "      <th>potential</th>\n",
       "      <th>weak_foot</th>\n",
       "      <th>pace</th>\n",
       "      <th>...</th>\n",
       "      <th>mentality_vision</th>\n",
       "      <th>mentality_penalties</th>\n",
       "      <th>defending_marking</th>\n",
       "      <th>defending_standing_tackle</th>\n",
       "      <th>defending_sliding_tackle</th>\n",
       "      <th>int_work_att</th>\n",
       "      <th>int_work_def</th>\n",
       "      <th>left</th>\n",
       "      <th>right</th>\n",
       "      <th>away</th>\n",
       "    </tr>\n",
       "    <tr>\n",
       "      <th>home</th>\n",
       "      <th></th>\n",
       "      <th></th>\n",
       "      <th></th>\n",
       "      <th></th>\n",
       "      <th></th>\n",
       "      <th></th>\n",
       "      <th></th>\n",
       "      <th></th>\n",
       "      <th></th>\n",
       "      <th></th>\n",
       "      <th></th>\n",
       "      <th></th>\n",
       "      <th></th>\n",
       "      <th></th>\n",
       "      <th></th>\n",
       "      <th></th>\n",
       "      <th></th>\n",
       "      <th></th>\n",
       "      <th></th>\n",
       "      <th></th>\n",
       "      <th></th>\n",
       "    </tr>\n",
       "  </thead>\n",
       "  <tbody>\n",
       "    <tr>\n",
       "      <th>0.0</th>\n",
       "      <td>189.5</td>\n",
       "      <td>1.092105</td>\n",
       "      <td>8.730789</td>\n",
       "      <td>4.0</td>\n",
       "      <td>182.219737</td>\n",
       "      <td>76.607632</td>\n",
       "      <td>75.183947</td>\n",
       "      <td>78.058158</td>\n",
       "      <td>3.121316</td>\n",
       "      <td>71.109474</td>\n",
       "      <td>...</td>\n",
       "      <td>64.457105</td>\n",
       "      <td>60.707632</td>\n",
       "      <td>57.623158</td>\n",
       "      <td>61.648421</td>\n",
       "      <td>59.016579</td>\n",
       "      <td>1.305263</td>\n",
       "      <td>1.233158</td>\n",
       "      <td>0.244737</td>\n",
       "      <td>0.755263</td>\n",
       "      <td>1.0</td>\n",
       "    </tr>\n",
       "    <tr>\n",
       "      <th>1.0</th>\n",
       "      <td>189.5</td>\n",
       "      <td>1.473684</td>\n",
       "      <td>2.299474</td>\n",
       "      <td>4.0</td>\n",
       "      <td>182.202105</td>\n",
       "      <td>76.626316</td>\n",
       "      <td>75.266316</td>\n",
       "      <td>78.126316</td>\n",
       "      <td>3.122895</td>\n",
       "      <td>71.185526</td>\n",
       "      <td>...</td>\n",
       "      <td>64.748684</td>\n",
       "      <td>61.013421</td>\n",
       "      <td>57.152895</td>\n",
       "      <td>61.183158</td>\n",
       "      <td>58.598158</td>\n",
       "      <td>1.304737</td>\n",
       "      <td>1.233158</td>\n",
       "      <td>0.252632</td>\n",
       "      <td>0.747368</td>\n",
       "      <td>0.0</td>\n",
       "    </tr>\n",
       "  </tbody>\n",
       "</table>\n",
       "<p>2 rows × 48 columns</p>\n",
       "</div>"
      ],
      "text/plain": [
       "      match_id     Goals  pos_left  pos_top   height_cm  weight_kg    overall  \\\n",
       "home                                                                            \n",
       "0.0      189.5  1.092105  8.730789      4.0  182.219737  76.607632  75.183947   \n",
       "1.0      189.5  1.473684  2.299474      4.0  182.202105  76.626316  75.266316   \n",
       "\n",
       "      potential  weak_foot       pace  ...  mentality_vision  \\\n",
       "home                                   ...                     \n",
       "0.0   78.058158   3.121316  71.109474  ...         64.457105   \n",
       "1.0   78.126316   3.122895  71.185526  ...         64.748684   \n",
       "\n",
       "      mentality_penalties  defending_marking  defending_standing_tackle  \\\n",
       "home                                                                      \n",
       "0.0             60.707632          57.623158                  61.648421   \n",
       "1.0             61.013421          57.152895                  61.183158   \n",
       "\n",
       "      defending_sliding_tackle  int_work_att  int_work_def      left  \\\n",
       "home                                                                   \n",
       "0.0                  59.016579      1.305263      1.233158  0.244737   \n",
       "1.0                  58.598158      1.304737      1.233158  0.252632   \n",
       "\n",
       "         right  away  \n",
       "home                  \n",
       "0.0   0.755263   1.0  \n",
       "1.0   0.747368   0.0  \n",
       "\n",
       "[2 rows x 48 columns]"
      ]
     },
     "execution_count": 129,
     "metadata": {},
     "output_type": "execute_result"
    }
   ],
   "source": [
    "matches_df.groupby('home').mean()"
   ]
  },
  {
   "cell_type": "code",
   "execution_count": 130,
   "metadata": {},
   "outputs": [],
   "source": [
    "matches_arr = matches_df.drop(columns='match_id').to_numpy().reshape((380,20,48))"
   ]
  },
  {
   "cell_type": "code",
   "execution_count": 131,
   "metadata": {},
   "outputs": [],
   "source": [
    "#matches_df.to_numpy().reshape((380,20,49))"
   ]
  },
  {
   "cell_type": "code",
   "execution_count": 132,
   "metadata": {},
   "outputs": [],
   "source": [
    "#match_id_ls = matches_df['match_id'].unique().tolist()\n",
    "#idk_lst = []\n",
    "#for match_id in match_id_ls:\n",
    "#    idk_lst.append(matches_df[matches_df.match_id==match_id].drop(columns='match_id'))\n",
    "#idk_lst"
   ]
  },
  {
   "cell_type": "code",
   "execution_count": 133,
   "metadata": {},
   "outputs": [],
   "source": [
    "#matches_arr = np.array(idk_lst, int)\n",
    "#matches_arr.shape\n",
    "#matches_arr[0,0,:]"
   ]
  },
  {
   "cell_type": "code",
   "execution_count": 134,
   "metadata": {},
   "outputs": [
    {
     "data": {
      "text/plain": [
       "array([3., 4., 0., 1., 8., 7., 4., 5., 1., 7., 2., 3., 8., 0., 3., 5., 0.,\n",
       "       8., 6., 5.])"
      ]
     },
     "execution_count": 134,
     "metadata": {},
     "output_type": "execute_result"
    }
   ],
   "source": [
    "matches_arr[1,:,2]"
   ]
  },
  {
   "cell_type": "code",
   "execution_count": 135,
   "metadata": {},
   "outputs": [],
   "source": [
    "#matches_arr[0,:,:]"
   ]
  },
  {
   "cell_type": "markdown",
   "metadata": {},
   "source": [
    "#### Le quito los primeros 3 features, Goles, pos left y pos top"
   ]
  },
  {
   "cell_type": "code",
   "execution_count": 136,
   "metadata": {},
   "outputs": [
    {
     "data": {
      "text/plain": [
       "(380, 20, 45)"
      ]
     },
     "execution_count": 136,
     "metadata": {},
     "output_type": "execute_result"
    }
   ],
   "source": [
    "left_cord = matches_arr[0,:,1]\n",
    "top_cord = matches_arr[0,:,2]\n",
    "goals_arr = matches_arr[0,:,0]\n",
    "\n",
    "matches_arr_cln = matches_arr.copy()\n",
    "matches_arr_cln = matches_arr_cln[:,:,3:]\n",
    "matches_arr_cln.shape"
   ]
  },
  {
   "cell_type": "code",
   "execution_count": 137,
   "metadata": {},
   "outputs": [
    {
     "data": {
      "text/plain": [
       "array([175.,  64.,  80.,  80.,   4.,  43.,  72.,  83.,  79.,  74.,  66.,\n",
       "        79.,  67.,  69.,  87.,  76.,  79.,  82.,  81.,  85.,  83.,  46.,\n",
       "        41.,  66.,  81.,  83.,  78.,  65.,  67.,  62.,  75.,  73.,  83.,\n",
       "        73.,  80.,  85.,  73.,  72.,  70.,   1.,   1.,   0.,   1.,   0.,\n",
       "         1.])"
      ]
     },
     "execution_count": 137,
     "metadata": {},
     "output_type": "execute_result"
    }
   ],
   "source": [
    "matches_arr_cln[0,0,:]"
   ]
  },
  {
   "cell_type": "code",
   "execution_count": 138,
   "metadata": {},
   "outputs": [
    {
     "data": {
      "text/plain": [
       "array([175., 168., 183., 178., 178., 198., 178., 175., 171., 185., 178.,\n",
       "       186., 186., 178., 183., 183., 193., 177., 179., 184.])"
      ]
     },
     "execution_count": 138,
     "metadata": {},
     "output_type": "execute_result"
    }
   ],
   "source": [
    "matches_arr_cln[0,:,0]"
   ]
  },
  {
   "cell_type": "code",
   "execution_count": 139,
   "metadata": {},
   "outputs": [
    {
     "data": {
      "text/plain": [
       "((20,), (20,))"
      ]
     },
     "execution_count": 139,
     "metadata": {},
     "output_type": "execute_result"
    }
   ],
   "source": [
    "top_cord.shape, left_cord.shape"
   ]
  },
  {
   "cell_type": "code",
   "execution_count": 140,
   "metadata": {},
   "outputs": [
    {
     "data": {
      "text/plain": [
       "array([6, 1, 8, 2, 0, 5, 3, 7, 4, 4, 8, 0, 3, 4, 5, 3, 5, 4, 0, 8])"
      ]
     },
     "execution_count": 140,
     "metadata": {},
     "output_type": "execute_result"
    }
   ],
   "source": [
    "top_cord.astype(int)"
   ]
  },
  {
   "cell_type": "code",
   "execution_count": 141,
   "metadata": {},
   "outputs": [
    {
     "data": {
      "text/plain": [
       "(20, 45)"
      ]
     },
     "execution_count": 141,
     "metadata": {},
     "output_type": "execute_result"
    }
   ],
   "source": [
    "cancha[top_cord.astype(int),left_cord.astype(int), :].shape"
   ]
  },
  {
   "cell_type": "code",
   "execution_count": 142,
   "metadata": {},
   "outputs": [
    {
     "data": {
      "text/plain": [
       "(9, 12, 45)"
      ]
     },
     "execution_count": 142,
     "metadata": {},
     "output_type": "execute_result"
    }
   ],
   "source": [
    "cancha.shape"
   ]
  },
  {
   "cell_type": "code",
   "execution_count": 143,
   "metadata": {},
   "outputs": [
    {
     "data": {
      "text/plain": [
       "(45, 20)"
      ]
     },
     "execution_count": 143,
     "metadata": {},
     "output_type": "execute_result"
    }
   ],
   "source": [
    "matches_arr_cln[0,:,:].T.shape"
   ]
  },
  {
   "cell_type": "markdown",
   "metadata": {},
   "source": [
    "#### No me acuerdo de esto y lo voy a comentar por mientras"
   ]
  },
  {
   "cell_type": "code",
   "execution_count": 144,
   "metadata": {},
   "outputs": [],
   "source": [
    "# feat_num = len(matches_arr[0,0,:])\n",
    "# cancha = np.zeros((feat_num, 9, 12), dtype=int)\n",
    "# cancha[:, top_cord, left_cord] =  matches_arr[0,:,:].T\n",
    "# cancha[5,:,:]"
   ]
  },
  {
   "cell_type": "markdown",
   "metadata": {},
   "source": [
    "#### Copio de arriba pero sin T y con 9, 12, feat num"
   ]
  },
  {
   "cell_type": "code",
   "execution_count": 145,
   "metadata": {},
   "outputs": [
    {
     "data": {
      "text/plain": [
       "array([83., 85., 65., 70., 72., 57., 71., 71., 75., 71., 66., 68., 50.,\n",
       "       60., 73., 68., 50., 59., 70., 68.])"
      ]
     },
     "execution_count": 145,
     "metadata": {},
     "output_type": "execute_result"
    }
   ],
   "source": [
    "matches_arr[0,:,10]"
   ]
  },
  {
   "cell_type": "markdown",
   "metadata": {},
   "source": [
    "##### Los datos de entrada deben ser tipo (128, 128, 3) -> (pixeles, pixeles, canales de color)\n",
    "\n",
    "En nuestro caso, (top, left, features)."
   ]
  },
  {
   "cell_type": "code",
   "execution_count": 146,
   "metadata": {},
   "outputs": [
    {
     "ename": "IndexError",
     "evalue": "arrays used as indices must be of integer (or boolean) type",
     "output_type": "error",
     "traceback": [
      "\u001b[1;31m---------------------------------------------------------------------------\u001b[0m",
      "\u001b[1;31mIndexError\u001b[0m                                Traceback (most recent call last)",
      "\u001b[1;32m<ipython-input-146-991abc201e71>\u001b[0m in \u001b[0;36m<module>\u001b[1;34m\u001b[0m\n\u001b[0;32m      1\u001b[0m \u001b[0mfeat_num\u001b[0m \u001b[1;33m=\u001b[0m \u001b[0mlen\u001b[0m\u001b[1;33m(\u001b[0m\u001b[0mmatches_arr\u001b[0m\u001b[1;33m[\u001b[0m\u001b[1;36m0\u001b[0m\u001b[1;33m,\u001b[0m\u001b[1;36m0\u001b[0m\u001b[1;33m,\u001b[0m\u001b[1;33m:\u001b[0m\u001b[1;33m]\u001b[0m\u001b[1;33m)\u001b[0m\u001b[1;33m\u001b[0m\u001b[1;33m\u001b[0m\u001b[0m\n\u001b[0;32m      2\u001b[0m \u001b[0mcancha\u001b[0m \u001b[1;33m=\u001b[0m \u001b[0mnp\u001b[0m\u001b[1;33m.\u001b[0m\u001b[0mzeros\u001b[0m\u001b[1;33m(\u001b[0m\u001b[1;33m(\u001b[0m\u001b[1;36m9\u001b[0m\u001b[1;33m,\u001b[0m \u001b[1;36m12\u001b[0m\u001b[1;33m,\u001b[0m \u001b[0mfeat_num\u001b[0m\u001b[1;33m)\u001b[0m\u001b[1;33m,\u001b[0m \u001b[0mdtype\u001b[0m\u001b[1;33m=\u001b[0m\u001b[0mint\u001b[0m\u001b[1;33m)\u001b[0m\u001b[1;33m\u001b[0m\u001b[1;33m\u001b[0m\u001b[0m\n\u001b[1;32m----> 3\u001b[1;33m \u001b[0mcancha\u001b[0m\u001b[1;33m[\u001b[0m\u001b[0mtop_cord\u001b[0m\u001b[1;33m,\u001b[0m \u001b[0mleft_cord\u001b[0m\u001b[1;33m,\u001b[0m \u001b[1;33m:\u001b[0m\u001b[1;33m]\u001b[0m \u001b[1;33m=\u001b[0m  \u001b[0mmatches_arr\u001b[0m\u001b[1;33m[\u001b[0m\u001b[1;36m2\u001b[0m\u001b[1;33m,\u001b[0m\u001b[1;33m:\u001b[0m\u001b[1;33m,\u001b[0m\u001b[1;33m:\u001b[0m\u001b[1;33m]\u001b[0m\u001b[1;33m\u001b[0m\u001b[1;33m\u001b[0m\u001b[0m\n\u001b[0m\u001b[0;32m      4\u001b[0m \u001b[0mcancha\u001b[0m\u001b[1;33m[\u001b[0m\u001b[1;33m:\u001b[0m\u001b[1;33m,\u001b[0m\u001b[1;33m:\u001b[0m\u001b[1;33m,\u001b[0m\u001b[1;36m0\u001b[0m\u001b[1;33m]\u001b[0m\u001b[1;33m\u001b[0m\u001b[1;33m\u001b[0m\u001b[0m\n",
      "\u001b[1;31mIndexError\u001b[0m: arrays used as indices must be of integer (or boolean) type"
     ]
    }
   ],
   "source": [
    "feat_num = len(matches_arr[0,0,:])\n",
    "cancha = np.zeros((9, 12, feat_num), dtype=int)\n",
    "cancha[top_cord, left_cord, :] =  matches_arr[2,:,:]\n",
    "cancha[:,:,0]"
   ]
  },
  {
   "cell_type": "code",
   "execution_count": null,
   "metadata": {},
   "outputs": [],
   "source": [
    "###### cancha_stats_lst = []\n",
    "goles_lst = []\n",
    "feat_num = len(matches_arr[0,0,:])\n",
    "\n",
    "for i in range(len(matches_arr[:,0,0])):\n",
    "    left_cord = matches_arr[i,:,1]\n",
    "    top_cord = matches_arr[i,:,2]\n",
    "    goals_arr = matches_arr[i,:,0]\n",
    "    cancha = np.zeros((feat_num, 9, 12), dtype=int)\n",
    "    cancha[:, top_cord, left_cord] =  matches_arr[i,:,:].T\n",
    "    goles_lst.append(cancha[0,:,:])\n",
    "cancha_stats_lst.append(cancha[3:,:,:])\n",
    "cancha_stats_lst"
   ]
  },
  {
   "cell_type": "code",
   "execution_count": null,
   "metadata": {},
   "outputs": [],
   "source": [
    "goles_lst"
   ]
  },
  {
   "cell_type": "code",
   "execution_count": null,
   "metadata": {},
   "outputs": [],
   "source": [
    "goles_arr = np.array(goles_lst,int)\n",
    "goles_arr.shape"
   ]
  },
  {
   "cell_type": "code",
   "execution_count": null,
   "metadata": {},
   "outputs": [],
   "source": [
    "cancha_stats_arr = np.array(cancha_stats_lst, int)\n",
    "cancha_stats_arr.shape"
   ]
  },
  {
   "cell_type": "markdown",
   "metadata": {},
   "source": [
    "#### Se obtienen los labels goles_lbls"
   ]
  },
  {
   "cell_type": "code",
   "execution_count": null,
   "metadata": {},
   "outputs": [],
   "source": [
    "goles_lbls = []\n",
    "#goles_cat_lbl = []\n",
    "for i in range(cancha_stats_arr[:,0,0,0].size):\n",
    "   # print(str(i+1) + ' Casa: ' + str(max(goles_arr[i,:,:5].flatten())) \n",
    "   #       + '  Visitante: ' + str(max(goles_arr[i,:,6:].flatten())))\n",
    "    goles_home = max(goles_arr[i,:,:5].flatten())\n",
    "    goles_away = max(goles_arr[i,:,6:].flatten())\n",
    "    goles_lbls.append([goles_home, goles_away, goles_home - goles_away, goles_away + goles_home])\n",
    "    #goles_cat_lbl.append([str(goles_home)+str(goles_away)])\n",
    "print('goles_home, goles_away, dif_home, goles_tot')\n",
    "goles_lbls_arr = np.array(goles_lbls)\n",
    "pd.DataFrame(goles_lbls_arr[:,2]).describe()\n",
    "#np.unique(goles_cat_lbl)"
   ]
  },
  {
   "cell_type": "code",
   "execution_count": null,
   "metadata": {},
   "outputs": [],
   "source": [
    "goles_dif_df = pd.DataFrame(goles_lbls_arr[:,2])\n",
    "goles_dif_df.value_counts().sort_index()"
   ]
  },
  {
   "cell_type": "code",
   "execution_count": null,
   "metadata": {},
   "outputs": [],
   "source": [
    "goles_tot_df = pd.DataFrame(goles_lbls_arr[:,3])\n",
    "goles_tot_df.value_counts().sort_index()"
   ]
  },
  {
   "cell_type": "code",
   "execution_count": null,
   "metadata": {},
   "outputs": [],
   "source": [
    "cancha_stats_arr.shape"
   ]
  },
  {
   "cell_type": "code",
   "execution_count": null,
   "metadata": {},
   "outputs": [],
   "source": [
    "# cancha_stats_arr_inv = cancha_stats_arr.copy()\n",
    "# print(cancha_stats_arr_inv[0,2,:,:])\n",
    "print(cancha_stats_arr[0,2,:,:])"
   ]
  },
  {
   "cell_type": "markdown",
   "metadata": {},
   "source": [
    "### \"Volteo\" la cancha para tener el doble de instancias"
   ]
  },
  {
   "cell_type": "code",
   "execution_count": null,
   "metadata": {},
   "outputs": [],
   "source": [
    "# cancha_stats_arr_inv = cancha_stats_arr.copy()\n",
    "# for i in range(12): \n",
    "#     cancha_stats_arr_inv[:,:,:,i] = cancha_stats_arr[:,:,:,11-i]\n",
    "# print(cancha_stats_arr_inv[0,2,:,:])\n",
    "# print(cancha_stats_arr[0,2,:,:])"
   ]
  },
  {
   "cell_type": "code",
   "execution_count": null,
   "metadata": {},
   "outputs": [],
   "source": [
    "np.unique(goles_lbls_arr[:,0],return_counts=True)"
   ]
  },
  {
   "cell_type": "markdown",
   "metadata": {},
   "source": [
    "## Finalmenchi"
   ]
  },
  {
   "cell_type": "code",
   "execution_count": null,
   "metadata": {
    "scrolled": true
   },
   "outputs": [],
   "source": [
    "model = Sequential()\n",
    "\n",
    "#input_shape=(9,12, 45)\n",
    "model.add(Conv2D(4, (3,3), padding='same', activation='sigmoid', input_shape=(9,12, 45))) \n",
    "model.add(MaxPooling2D(pool_size=(2, 2)))\n",
    "\n",
    "model.add(Conv2D(16, (3,3), padding='same', activation='sigmoid'))\n",
    "model.add(MaxPooling2D(pool_size=(2, 2)))\n",
    "\n",
    "model.add(Conv2D(32, (4,4), padding='same', activation='sigmoid'))\n",
    "model.add(MaxPooling2D(pool_size=(2, 2)))\n",
    "\n",
    "model.add(Flatten())\n",
    "model.add(Dropout(0.2))\n",
    "model.add(Dense(512, activation='relu'))\n",
    "\n",
    "model.add(Dropout(0.2))\n",
    "model.add(Dense(9))\n"
   ]
  },
  {
   "cell_type": "code",
   "execution_count": null,
   "metadata": {},
   "outputs": [],
   "source": [
    "model.compile(optimizer='adam',\n",
    "              loss=tf.keras.losses.SparseCategoricalCrossentropy(from_logits=True),\n",
    "              metrics=['accuracy'])"
   ]
  },
  {
   "cell_type": "code",
   "execution_count": null,
   "metadata": {},
   "outputs": [],
   "source": [
    "cancha_stats_arr.shape"
   ]
  },
  {
   "cell_type": "code",
   "execution_count": null,
   "metadata": {},
   "outputs": [],
   "source": [
    "cancha_stats_arr_inv.shape"
   ]
  },
  {
   "cell_type": "code",
   "execution_count": null,
   "metadata": {},
   "outputs": [],
   "source": [
    "nepe = np.concatenate((cancha_stats_arr, cancha_stats_arr_inv))\n",
    "nepe.reshape(760, 4860)\n",
    "Xset_norm = sklearn.preprocessing.normalize(nepe.reshape(760, 4860)).reshape(760,45,9,12)\n",
    "Xset_norm\n",
    "a = nepe[0,:,:,:]\n",
    "a = a.reshape(45,9,12)\n",
    "a[2,:,:]\n",
    "np.zeros([2,3,4])"
   ]
  },
  {
   "cell_type": "code",
   "execution_count": null,
   "metadata": {},
   "outputs": [],
   "source": [
    "Yset = np.concatenate((goles_lbls_arr[:,0],goles_lbls_arr[:,1]))"
   ]
  },
  {
   "cell_type": "code",
   "execution_count": null,
   "metadata": {
    "scrolled": false
   },
   "outputs": [],
   "source": [
    "x_train, x_test, y_train, y_test=train_test_split(Xset_norm, Yset, test_size=0.1, shuffle=True)\n",
    "\n",
    "epochs = 30\n",
    "history = model.fit(x_train, y_train, validation_data=(x_test,y_test),  batch_size = 10, epochs = epochs)\n"
   ]
  },
  {
   "cell_type": "code",
   "execution_count": null,
   "metadata": {},
   "outputs": [],
   "source": [
    "acc = history.history['accuracy']\n",
    "val_acc = history.history['val_accuracy']\n",
    "\n",
    "loss = history.history['loss']\n",
    "val_loss = history.history['val_loss']\n",
    "\n",
    "epochs_range = range(epochs)\n",
    "\n",
    "plt.figure(figsize=(12, 8))\n",
    "plt.subplot(1, 2, 1)\n",
    "plt.plot(epochs_range, acc, label='Training Accuracy')\n",
    "plt.plot(epochs_range, val_acc, label='Validation Accuracy')\n",
    "plt.legend(loc='lower right')\n",
    "plt.title('Training and Validation Accuracy')\n",
    "\n",
    "plt.subplot(1, 2, 2)\n",
    "plt.plot(epochs_range, loss, label='Training Loss')\n",
    "plt.plot(epochs_range, val_loss, label='Validation Loss')\n",
    "plt.legend(loc='upper right')\n",
    "plt.title('Training and Validation Loss')\n",
    "plt.show()"
   ]
  },
  {
   "cell_type": "code",
   "execution_count": null,
   "metadata": {},
   "outputs": [],
   "source": []
  },
  {
   "cell_type": "code",
   "execution_count": null,
   "metadata": {},
   "outputs": [],
   "source": []
  },
  {
   "cell_type": "code",
   "execution_count": null,
   "metadata": {},
   "outputs": [],
   "source": [
    "for feat, targ in dataset.take(5):\n",
    "  print ('Features: {}, Target: {}'.format(feat, targ))"
   ]
  },
  {
   "cell_type": "code",
   "execution_count": null,
   "metadata": {},
   "outputs": [],
   "source": [
    "#train_dataset = dataset.shuffle(len(df)).batch(1)"
   ]
  },
  {
   "cell_type": "code",
   "execution_count": null,
   "metadata": {},
   "outputs": [],
   "source": [
    "#target = df.pop('target')\n",
    "#dataset = tf.data.Dataset.from_tensor_slices((df.values, target.values))"
   ]
  },
  {
   "cell_type": "code",
   "execution_count": null,
   "metadata": {
    "scrolled": true
   },
   "outputs": [],
   "source": [
    "## get a list of match id\n",
    "#match_id_ls=matches_df['match_id'].unique().tolist()\n",
    "## now we can perform a lookup on a 'view' of the dataframe\n",
    "#dict_match_df = {}\n",
    "\n",
    "#for match_id in match_id_ls:\n",
    "    #dict_match_df[match_id] = matches_df[matches_df.match_id==match_id].drop('match_id', axis=1)\n",
    "#dict_match_df"
   ]
  },
  {
   "cell_type": "markdown",
   "metadata": {},
   "source": [
    "classes = dict_match_df\n",
    "for cl in classes:\n",
    "  img_path = os.path.join(base_dir, cl)\n",
    "  images = glob.glob(img_path + '/*.jpg')\n",
    "  print(\"{}: {} Images\".format(cl, len(images)))\n",
    "  num_train = int(round(len(images)*0.8))\n",
    "  train, val = images[:num_train], images[num_train:]\n",
    "\n",
    "  for t in train:\n",
    "    if not os.path.exists(os.path.join(base_dir, 'train', cl)):\n",
    "      os.makedirs(os.path.join(base_dir, 'train', cl))\n",
    "    shutil.move(t, os.path.join(base_dir, 'train', cl))\n",
    "\n",
    "  for v in val:\n",
    "    if not os.path.exists(os.path.join(base_dir, 'val', cl)):\n",
    "      os.makedirs(os.path.join(base_dir, 'val', cl))\n",
    "    shutil.move(v, os.path.join(base_dir, 'val', cl)) "
   ]
  },
  {
   "cell_type": "markdown",
   "metadata": {},
   "source": [
    "tf.constant(df['thal'])"
   ]
  },
  {
   "cell_type": "code",
   "execution_count": null,
   "metadata": {},
   "outputs": [],
   "source": []
  }
 ],
 "metadata": {
  "kernelspec": {
   "display_name": "ScoreMl_Kernel",
   "language": "python",
   "name": "scoreml_kernel"
  },
  "language_info": {
   "codemirror_mode": {
    "name": "ipython",
    "version": 3
   },
   "file_extension": ".py",
   "mimetype": "text/x-python",
   "name": "python",
   "nbconvert_exporter": "python",
   "pygments_lexer": "ipython3",
   "version": "3.7.7"
  }
 },
 "nbformat": 4,
 "nbformat_minor": 2
}
