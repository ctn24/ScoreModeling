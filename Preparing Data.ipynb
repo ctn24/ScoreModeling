{
 "cells": [
  {
   "cell_type": "markdown",
   "metadata": {},
   "source": [
    "# Se hace un merge entre Premiere League Matches y FIFA Player Stats"
   ]
  },
  {
   "cell_type": "markdown",
   "metadata": {},
   "source": [
    "# Databases\n",
    "\n",
    "\n",
    "#### Hay dos bases de datos:\n",
    "\n",
    "* **FPS:** Fifa players stats 15-20: https://www.kaggle.com/stefanoleone992/fifa-20-complete-player-dataset\n",
    "* **PML:** Premiere league matches 14/15-19/20: Scraped from https://www.flashscore.com/football/england/premier-league/archive/"
   ]
  },
  {
   "cell_type": "markdown",
   "metadata": {},
   "source": [
    "## Se importan las librerias"
   ]
  },
  {
   "cell_type": "code",
   "execution_count": null,
   "metadata": {},
   "outputs": [],
   "source": [
    "import pandas as pd\n",
    "import numpy as np\n",
    "import matplotlib.pyplot as plt\n",
    "import os\n",
    "from pathlib import Path\n",
    "import seaborn as sns\n",
    "from sklearn.metrics import mean_squared_error\n",
    "import math\n",
    "import glob\n",
    "\n",
    "sns.set(style=\"darkgrid\")"
   ]
  },
  {
   "cell_type": "markdown",
   "metadata": {},
   "source": [
    "## Se importan los archivos CSVs\n",
    "\n",
    "#### Se importa la temporada Premiere League 2014 - 2015\n"
   ]
  },
  {
   "cell_type": "code",
   "execution_count": null,
   "metadata": {},
   "outputs": [],
   "source": [
    "li = []\n",
    "for i in range(15, 14, -1): \n",
    "    path = f'C:/Users/ctn24/PycharmProjects/ScrapeFlashScore/Scripts/Premier_League20{i-1}20{i}/' # use your path\n",
    "    all_files = glob.glob(path + \"/*.csv\")\n",
    "    print(f'Premier_League20{i-1}20{i}')\n",
    "    for filename in all_files:\n",
    "        df = pd.read_csv(filename, index_col=None, header=0)\n",
    "        li.append(df)\n",
    "\n",
    "PLM_1415 = pd.concat(li, axis=0, ignore_index=True)"
   ]
  },
  {
   "cell_type": "markdown",
   "metadata": {},
   "source": [
    "#### Se importan los datos de FIFA 2015"
   ]
  },
  {
   "cell_type": "code",
   "execution_count": null,
   "metadata": {},
   "outputs": [],
   "source": [
    "FPS_15 = pd.read_csv('C:/Users/ctn24/PycharmProjects/ScrapeFlashScore/Scripts/FIFA 15-20/players_15.csv')\n",
    "FPS = FPS_15.copy()\n",
    "#FPS = FPS[[ 'nationality', 'club','team_jersey_number', 'short_name', 'dob']]\n",
    "FPS"
   ]
  },
  {
   "cell_type": "code",
   "execution_count": null,
   "metadata": {},
   "outputs": [],
   "source": [
    "#FPS = FPS.dropna()\n",
    "#FPS"
   ]
  },
  {
   "cell_type": "code",
   "execution_count": null,
   "metadata": {},
   "outputs": [],
   "source": [
    "PLM_1415.info()"
   ]
  },
  {
   "cell_type": "code",
   "execution_count": null,
   "metadata": {},
   "outputs": [],
   "source": [
    "clubs_PLM = PLM_1415[['Club']]\n",
    "clubs_PLM.info()"
   ]
  },
  {
   "cell_type": "code",
   "execution_count": null,
   "metadata": {},
   "outputs": [],
   "source": [
    "clubs_PLM['Club'].value_counts().head(3)"
   ]
  },
  {
   "cell_type": "code",
   "execution_count": null,
   "metadata": {},
   "outputs": [],
   "source": [
    "unique_clubs_PLM = pd.DataFrame()\n",
    "unique_clubs_PLM['Club'] = clubs_PLM.Club.drop_duplicates()\n",
    "unique_clubs_PLM.info()"
   ]
  },
  {
   "cell_type": "markdown",
   "metadata": {},
   "source": [
    "#### Checamos que los nombres de los equipos (Club) en PLM esten dentro de FPS"
   ]
  },
  {
   "cell_type": "code",
   "execution_count": null,
   "metadata": {},
   "outputs": [],
   "source": [
    "pd.Series(unique_clubs_PLM.Club.isin(FPS.club).values.astype(int), unique_clubs_PLM.Club.values).head()"
   ]
  },
  {
   "cell_type": "markdown",
   "metadata": {},
   "source": [
    "#### Cambiamos los nombres de los equipos (Club) en la serie \"PLM\" para que concuerden con FPS usando un diccionario"
   ]
  },
  {
   "cell_type": "code",
   "execution_count": null,
   "metadata": {},
   "outputs": [],
   "source": [
    "di = {'Brighton':'Brighton & Hove Albion','Tottenham':'Tottenham Hotspur',\n",
    "'Newcastle':'Newcastle United','Wolves':'Wolverhampton Wanderers',\n",
    "'Norwich':'Norwich City','Manchester Utd':'Manchester United',\n",
    "'Leicester':'Leicester City','West Ham':'West Ham United',\n",
    "'Sheffield Utd':'Sheffield United','Cardiff':'Cardiff City',\n",
    "'Huddersfield':'Huddersfield Town','Swansea':'Swansea City',\n",
    "'Stoke':'Stoke City','West Brom':'West Bromwich Albion',\n",
    "'Hull':'Hull City','QPR':'Queens Park Rangers'}\n",
    "\n",
    "unique_clubs_PLM_renamed = pd.DataFrame()\n",
    "unique_clubs_PLM_renamed['Club'] = unique_clubs_PLM['Club'].map(di).fillna(unique_clubs_PLM['Club']) \n",
    "unique_clubs_PLM_renamed.head(3)"
   ]
  },
  {
   "cell_type": "markdown",
   "metadata": {},
   "source": [
    "#### Checamos que todos los nombres de los clubs de PLM esten dentro de FPS"
   ]
  },
  {
   "cell_type": "code",
   "execution_count": null,
   "metadata": {},
   "outputs": [],
   "source": [
    "pd.Series(unique_clubs_PLM_renamed.Club.isin(FPS.club).values.astype(int), unique_clubs_PLM_renamed.Club.values).head()"
   ]
  },
  {
   "cell_type": "code",
   "execution_count": null,
   "metadata": {},
   "outputs": [],
   "source": [
    "FPS_c = FPS.copy()\n",
    "FPS_c = FPS_c[FPS_c.club.isin(unique_clubs_PLM_renamed['Club'])]\n",
    "FPS_c.head(3)"
   ]
  },
  {
   "cell_type": "code",
   "execution_count": null,
   "metadata": {},
   "outputs": [],
   "source": [
    "PLM_1415_nat = pd.DataFrame()\n",
    "PLM_1415_nat['nationality'] = PLM_1415.Nationality.drop_duplicates()"
   ]
  },
  {
   "cell_type": "code",
   "execution_count": null,
   "metadata": {},
   "outputs": [],
   "source": [
    "nat_compare = pd.Series(PLM_1415_nat.nationality.isin(FPS.nationality)\n",
    "                                .values.astype(int), PLM_1415_nat.nationality.values)\n",
    "\n",
    "nat_compare.value_counts()"
   ]
  },
  {
   "cell_type": "markdown",
   "metadata": {},
   "source": [
    "#### Paises con nombre diferente en las bd"
   ]
  },
  {
   "cell_type": "code",
   "execution_count": null,
   "metadata": {},
   "outputs": [],
   "source": [
    "nat_compare[nat_compare.eq(0)].head()"
   ]
  },
  {
   "cell_type": "markdown",
   "metadata": {},
   "source": [
    "#### Cambiamos los nombres de los paises (Nationality) en la serie de \"PLM\" para que concuerden con FPS usando un diccionario"
   ]
  },
  {
   "cell_type": "code",
   "execution_count": null,
   "metadata": {},
   "outputs": [],
   "source": [
    "di = {'Ireland':'Republic of Ireland','USA':'United States','South Korea':'Korea Republic',\n",
    "      'Bosnia and Herzegovina':'Bosnia Herzegovina','Curaçao':'Curacao'}\n",
    "\n",
    "PLM_1415_nat_renamed = pd.DataFrame()\n",
    "PLM_1415_nat_renamed['nationality'] = PLM_1415_nat['nationality'].map(di).fillna(PLM_1415_nat['nationality']) \n",
    "PLM_1415_nat_renamed.head(3)"
   ]
  },
  {
   "cell_type": "code",
   "execution_count": null,
   "metadata": {},
   "outputs": [],
   "source": [
    "nationality_compare = pd.Series(PLM_1415_nat_renamed.nationality.isin(FPS.nationality)\n",
    "                                .values.astype(int), PLM_1415_nat_renamed.nationality.values)\n",
    "nationality_compare.head(3)"
   ]
  },
  {
   "cell_type": "markdown",
   "metadata": {},
   "source": [
    "## Fucionamos las bases de datos"
   ]
  },
  {
   "cell_type": "code",
   "execution_count": null,
   "metadata": {},
   "outputs": [],
   "source": [
    "#pd.merge(a, b, on=['A', 'B'])\n",
    "PML_i = PLM_1415.copy()\n",
    "PML_i = pd.DataFrame(PML_i.drop(['Unnamed: 0'], axis=1))\n",
    "PML_i.head(3)"
   ]
  },
  {
   "cell_type": "code",
   "execution_count": null,
   "metadata": {},
   "outputs": [],
   "source": [
    "di = {'Ireland':'Republic of Ireland','USA':'United States','South Korea':'Korea Republic',\n",
    "      'Bosnia and Herzegovina':'Bosnia Herzegovina','Curaçao':'Curacao'}\n",
    "\n",
    "PML_ni = PML_i.copy()\n",
    "PML_ni_serie = PML_ni['Nationality'].map(di).fillna(PML_ni['Nationality']) \n",
    "PML_ni.insert(6, 'nationality', PML_ni_serie, True)\n",
    "PML_ni = PML_ni.drop(['Nationality'], axis = 1)\n",
    "PML_ni.head(3)"
   ]
  },
  {
   "cell_type": "code",
   "execution_count": null,
   "metadata": {},
   "outputs": [],
   "source": [
    "PML_ni.head(1)"
   ]
  },
  {
   "cell_type": "code",
   "execution_count": null,
   "metadata": {},
   "outputs": [],
   "source": [
    "di = {'Brighton':'Brighton & Hove Albion','Tottenham':'Tottenham Hotspur',\n",
    "'Newcastle':'Newcastle United','Wolves':'Wolverhampton Wanderers',\n",
    "'Norwich':'Norwich City','Manchester Utd':'Manchester United',\n",
    "'Leicester':'Leicester City','West Ham':'West Ham United',\n",
    "'Sheffield Utd':'Sheffield United','Cardiff':'Cardiff City',\n",
    "'Huddersfield':'Huddersfield Town','Swansea':'Swansea City',\n",
    "'Stoke':'Stoke City','West Brom':'West Bromwich Albion',\n",
    "'Hull':'Hull City','QPR':'Queens Park Rangers'}\n",
    "\n",
    "PML_cni = PML_ni.copy()\n",
    "PML_cni_serie = PML_cni['Club'].map(di).fillna(PML_cni['Club']) \n",
    "PML_cni.insert(3, 'club', PML_cni_serie, True)\n",
    "PML_cni = PML_cni.drop(['Club'], axis=1)\n",
    "PML_cni.head(3)"
   ]
  },
  {
   "cell_type": "code",
   "execution_count": null,
   "metadata": {},
   "outputs": [],
   "source": [
    "FPS.head(1)\n",
    "FPS.info()"
   ]
  },
  {
   "cell_type": "code",
   "execution_count": null,
   "metadata": {},
   "outputs": [],
   "source": [
    "#FPS = FPS.astype({\n",
    "#                    'nationality':str,\n",
    "#                    'club':str,\n",
    "#                    'team_jersey_number':int,\n",
    "#                    'short_name':str,\n",
    "#                    'dob':str\n",
    "#                })\n",
    "FPS.head(1)"
   ]
  },
  {
   "cell_type": "code",
   "execution_count": null,
   "metadata": {},
   "outputs": [],
   "source": [
    "FPS = FPS.rename(columns={'team_jersey_number': 'jersey_num'})\n",
    "PML_cni = PML_cni.rename(columns={'Jersey_Num': 'jersey_num'})"
   ]
  },
  {
   "cell_type": "markdown",
   "metadata": {},
   "source": [
    "#### Al haber mas registros que antes en PML, nos damos cuenta que hay valores en FPS que se relacionan con mas de un registro en PLM"
   ]
  },
  {
   "cell_type": "code",
   "execution_count": null,
   "metadata": {},
   "outputs": [],
   "source": [
    "#pd.merge(a, b, on=['A', 'B'])\n",
    "PML_FPS = pd.merge(PML_cni, FPS, on=['jersey_num', 'club'], how='left')\n",
    "PML_FPS.info()"
   ]
  },
  {
   "cell_type": "code",
   "execution_count": null,
   "metadata": {},
   "outputs": [],
   "source": [
    "FPS"
   ]
  },
  {
   "cell_type": "code",
   "execution_count": null,
   "metadata": {},
   "outputs": [],
   "source": [
    "duplicated = FPS.duplicated(subset=['jersey_num','club'])\n",
    "\n",
    "FPS[duplicated].sort_values(by=['club'])\n",
    "\n",
    "#Ya no hay duplicados en la Premiere League"
   ]
  },
  {
   "cell_type": "code",
   "execution_count": null,
   "metadata": {},
   "outputs": [],
   "source": [
    "PML_cni.loc[(PML_cni['jersey_num'] == 13)  &  (PML_cni['club'] == 'Queens Park Rangers')].head(1)"
   ]
  },
  {
   "cell_type": "code",
   "execution_count": null,
   "metadata": {
    "scrolled": true
   },
   "outputs": [],
   "source": [
    "#from IPython.core.display import HTML\n",
    "#display(HTML(PML_FPS.to_html()))\n",
    "\n",
    "#merge_dif_nat = PML_FPS[['short_name','jersey_num', 'club', 'nationality_x','nationality_y']].query(\n",
    " #   'nationality_x != nationality_y').drop_duplicates(subset=['short_name']).sort_values(by=['jersey_num'])\n",
    "#merge_dif_nat.head(1)"
   ]
  },
  {
   "cell_type": "code",
   "execution_count": null,
   "metadata": {},
   "outputs": [],
   "source": [
    "PML_cni.info()"
   ]
  },
  {
   "cell_type": "code",
   "execution_count": null,
   "metadata": {},
   "outputs": [],
   "source": [
    "#PML_cni = PML_cni.astype({\n",
    "#                        'Date':str,\n",
    "#                        'League':str,\n",
    "#                        'club':str,\n",
    "#                        'Goals':int,\n",
    "#                        'Home_Away':str,\n",
    "#                        'Name':str,\n",
    "#                        'nationality':str,\n",
    "#                        'player_link':str,\n",
    "#                        'jersey_num':int,\n",
    "#                        'pos_left':int,\n",
    "#                        'pos_top':int\n",
    "#                        })\n",
    "#PML_cni.head()"
   ]
  },
  {
   "cell_type": "markdown",
   "metadata": {},
   "source": [
    "#### ((Esto es innecesario)) Removemos los \"(C)\" y \"(G)\", de capitan y goalkeeper, de la serie \"Name\" de PML"
   ]
  },
  {
   "cell_type": "markdown",
   "metadata": {},
   "source": [
    "PML_ncni_serie = PML_cni['Name'].fillna('N/A').str.replace(\"\\(C\\)\", \"\")\n",
    "PML_ncni_serie = PML_ncni_serie.fillna('N/A').str.replace(\"\\(G\\)\", \"\")\n",
    "\n",
    "#PML_ncni_serie.value_counts()"
   ]
  },
  {
   "cell_type": "markdown",
   "metadata": {},
   "source": [
    "PML_ncni = PML_cni.copy()\n",
    "PML_ncni = PML_cni.drop(['Name'], axis=1)\n",
    "PML_ncni.insert(5, 'name', PML_ncni_serie, True)\n",
    "PML_ncni.head(3)"
   ]
  },
  {
   "cell_type": "code",
   "execution_count": null,
   "metadata": {
    "scrolled": true
   },
   "outputs": [],
   "source": [
    "PML_FPS.head(2)"
   ]
  },
  {
   "cell_type": "code",
   "execution_count": null,
   "metadata": {
    "scrolled": true
   },
   "outputs": [],
   "source": [
    "#df.loc[lambda df: df['shield'] == 8]\n",
    "PML_FPS_drop = PML_FPS.loc[(PML_FPS['player_positions'] != 'GK')].copy() #(Ya funciona se corrigio la bd)\n",
    "                                                                         #DA 7591 en lugar de 7600\n",
    "#PML_FPS_drop = PML_FPS.loc[(PML_FPS['team_position'].str.strip() != 'GK')].copy() #DA 7732 en lugar de 7600\n",
    "#PML_FPS_drop = PML_FPS.loc[(PML_FPS['pos_left'] != -28) & (PML_FPS['pos_left'] != 448)].copy() # Este si da 7600\n",
    "\n",
    "PML_FPS_drop = PML_FPS_drop[PML_FPS.columns[:82]]\n",
    "PML_FPS_drop = PML_FPS_drop.dropna(axis=1, how='all',thresh=7590)\n",
    "PML_FPS_drop = PML_FPS_drop.drop(['player_url','short_name','long_name',\n",
    "                                  'age','dob','value_eur','wage_eur','international_reputation',\n",
    "                                  'skill_moves','team_position',\n",
    "                                  'player_link','nationality_x','nationality_y','sofifa_id','real_face'                              \n",
    "                                 ],axis=1)\n",
    "PML_FPS_drop.info(1)\n",
    "PML_FPS_drop.to_csv('PML_FPS_drop.csv', index=False)\n"
   ]
  },
  {
   "cell_type": "code",
   "execution_count": null,
   "metadata": {
    "scrolled": true
   },
   "outputs": [],
   "source": [
    "PML_FPS_drop_clean = PML_FPS_drop.copy()\n",
    "col = PML_FPS_drop_clean.columns\n",
    "#print(col[24])\n",
    "\n",
    "for i in range(18,len(col),1):\n",
    "    try:\n",
    "        PML_FPS_drop_clean[col[i]] = PML_FPS_drop_clean[col[i]].str.split(pat='+').str[0]\n",
    "        PML_FPS_drop_clean[col[i]] = PML_FPS_drop_clean[col[i]].str.split(pat='-').str[0]\n",
    "    except:\n",
    "        next     \n",
    "    PML_FPS_drop_clean[col[i]] = PML_FPS_drop_clean[col[i]].astype(int)\n",
    "\n",
    "    #print(PML_FPS_drop_clean[col[i]])\n",
    "\n",
    "PML_FPS_drop_clean.info()\n",
    "\n",
    "#PML_FPS_att = PML_FPS['attacking_crossing'].str.split(pat='+').str[0]\n",
    "#PML_FPS_att = PML_FPS_att.str.split(pat='-').str[0]\n",
    "#PML_FPS_att"
   ]
  },
  {
   "cell_type": "code",
   "execution_count": null,
   "metadata": {},
   "outputs": [],
   "source": [
    "PML_FPS_drop_clean.describe()"
   ]
  },
  {
   "cell_type": "code",
   "execution_count": null,
   "metadata": {},
   "outputs": [],
   "source": [
    "PML_FPS_pmap = PML_FPS_drop_clean.copy()\n",
    "PML_FPS_pmap['pos_top'].loc[PML_FPS_pmap['pos_top'] == 11] = 12\n",
    "PML_FPS_pmap['pos_top'].loc[PML_FPS_pmap['pos_top'] == 20] = 21\n",
    "PML_FPS_pmap['pos_top'].loc[PML_FPS_pmap['pos_top'] == 75] = 76\n",
    "PML_FPS_pmap['pos_top'].loc[PML_FPS_pmap['pos_top'] == 81] = 82\n",
    "PML_FPS_pmap['pos_top'].loc[PML_FPS_pmap['pos_top'] == 100] = 101\n",
    "PML_FPS_pmap['pos_top'].loc[PML_FPS_pmap['pos_top'] == 138] = 142\n",
    "PML_FPS_pmap['pos_top'].loc[PML_FPS_pmap['pos_top'] == 183] = 184\n",
    "PML_FPS_pmap['pos_top'].loc[PML_FPS_pmap['pos_top'] == 200] = 201\n",
    "#Como por error se mezclan las posiciones en los extremos cuando son 4 y 5 entonces las fucionamos como una sola.\n",
    "PML_FPS_pmap['pos_top'].loc[PML_FPS_pmap['pos_top'] == 202] = 203\n",
    "PML_FPS_pmap['pos_top'].loc[PML_FPS_pmap['pos_top'] == 264] = 263\n",
    "PML_FPS_pmap['pos_top'].loc[PML_FPS_pmap['pos_top'] == 12] = 21\n",
    "PML_FPS_pmap['pos_top'].loc[PML_FPS_pmap['pos_top'] == 265] = 263"
   ]
  },
  {
   "cell_type": "code",
   "execution_count": null,
   "metadata": {},
   "outputs": [],
   "source": [
    "PML_FPS_pmap['pos_top'].sort_values().value_counts()"
   ]
  },
  {
   "cell_type": "markdown",
   "metadata": {},
   "source": [
    "#### Aqui (pos_top) mejor dividi el campo dependiendo de la formacion y junte los que deberian ser iguales, e.g. 1/3 con 2/6"
   ]
  },
  {
   "cell_type": "code",
   "execution_count": null,
   "metadata": {},
   "outputs": [],
   "source": [
    "PML_FPS_pmap['pos_top'].loc[PML_FPS_pmap['pos_top'] == 76] = 82\n",
    "PML_FPS_pmap['pos_top'].loc[PML_FPS_pmap['pos_top'] == 203] = 200\n",
    "PML_FPS_pmap['pos_top'].loc[PML_FPS_pmap['pos_top'] == 201] = 200\n",
    "\n",
    "PML_FPS_pmap['pos_top'].sort_values().value_counts()"
   ]
  },
  {
   "cell_type": "code",
   "execution_count": null,
   "metadata": {},
   "outputs": [],
   "source": [
    "PML_FPS_pmap['pos_top'].loc[PML_FPS_pmap['pos_top'] == 21] = 0\n",
    "PML_FPS_pmap['pos_top'].loc[PML_FPS_pmap['pos_top'] == 62] = 1\n",
    "PML_FPS_pmap['pos_top'].loc[PML_FPS_pmap['pos_top'] == 82] = 2\n",
    "PML_FPS_pmap['pos_top'].loc[PML_FPS_pmap['pos_top'] == 101] = 3\n",
    "PML_FPS_pmap['pos_top'].loc[PML_FPS_pmap['pos_top'] == 142] = 4\n",
    "PML_FPS_pmap['pos_top'].loc[PML_FPS_pmap['pos_top'] == 184] = 5\n",
    "PML_FPS_pmap['pos_top'].loc[PML_FPS_pmap['pos_top'] == 200] = 6\n",
    "PML_FPS_pmap['pos_top'].loc[PML_FPS_pmap['pos_top'] == 222] = 7\n",
    "PML_FPS_pmap['pos_top'].loc[PML_FPS_pmap['pos_top'] == 263] = 8\n",
    "PML_FPS_pmap['pos_top'].value_counts()"
   ]
  },
  {
   "cell_type": "code",
   "execution_count": null,
   "metadata": {},
   "outputs": [],
   "source": [
    "PML_FPS_drop_clean['pos_left'].sort_values(axis=0).drop_duplicates()"
   ]
  },
  {
   "cell_type": "code",
   "execution_count": null,
   "metadata": {},
   "outputs": [],
   "source": [
    "PML_FPS_pmap['pos_left'].loc[PML_FPS_pmap['pos_left'] == 18] = 0\n",
    "PML_FPS_pmap['pos_left'].loc[PML_FPS_pmap['pos_left'] == 34] = 1\n",
    "PML_FPS_pmap['pos_left'].loc[PML_FPS_pmap['pos_left'] == 69] = 2\n",
    "PML_FPS_pmap['pos_left'].loc[PML_FPS_pmap['pos_left'] == 104] = 3\n",
    "PML_FPS_pmap['pos_left'].loc[PML_FPS_pmap['pos_left'] == 120] = 4\n",
    "PML_FPS_pmap['pos_left'].loc[PML_FPS_pmap['pos_left'] == 174] = 5\n",
    "\n",
    "PML_FPS_pmap['pos_left'].loc[PML_FPS_pmap['pos_left'] == 402] = 11\n",
    "PML_FPS_pmap['pos_left'].loc[PML_FPS_pmap['pos_left'] == 386] = 10\n",
    "PML_FPS_pmap['pos_left'].loc[PML_FPS_pmap['pos_left'] == 351] = 9\n",
    "PML_FPS_pmap['pos_left'].loc[PML_FPS_pmap['pos_left'] == 316] = 8\n",
    "PML_FPS_pmap['pos_left'].loc[PML_FPS_pmap['pos_left'] == 300] = 7\n",
    "PML_FPS_pmap['pos_left'].loc[PML_FPS_pmap['pos_left'] == 246] = 6\n",
    "PML_FPS_pmap['pos_left'].value_counts()"
   ]
  },
  {
   "cell_type": "code",
   "execution_count": null,
   "metadata": {},
   "outputs": [],
   "source": [
    "(PML_FPS_pmap.query\n",
    " ('League == \"Premier League - Round 10\" and Date == \"01.11.2014 09:00\" and (club == \"Arsenal\" or club == \"Burnley\")')\n",
    " .plot.scatter(x='pos_left',y='pos_top',c='movement_acceleration',colormap='viridis'))\n",
    "\n"
   ]
  },
  {
   "cell_type": "code",
   "execution_count": null,
   "metadata": {},
   "outputs": [],
   "source": [
    "#PML_FPS.plot.scatter(x='pos_left', y='pos_top', c='DarkBlue')"
   ]
  },
  {
   "cell_type": "code",
   "execution_count": null,
   "metadata": {},
   "outputs": [],
   "source": [
    "(PML_FPS.query('League == \"Premier League - Round 10\" and (club == \"Arsenal\" or club == \"Burnley\")')\n",
    " .plot.scatter(x='pos_left',y='pos_top',c='overall',colormap='viridis'))\n"
   ]
  },
  {
   "cell_type": "code",
   "execution_count": null,
   "metadata": {},
   "outputs": [],
   "source": [
    "# (PML_FPS.query('League == \"Premier League - Round 10\" and (club == \"Manchester City\" or club == \"Manchester United\")')\n",
    "# .plot.scatter(x='pos_left',y='pos_top',c='overall',colormap='viridis'))"
   ]
  },
  {
   "cell_type": "code",
   "execution_count": null,
   "metadata": {},
   "outputs": [],
   "source": [
    "PML_FPS.query('League == \"Premier League - Round 10\"').drop_duplicates('club').head(1)"
   ]
  },
  {
   "cell_type": "markdown",
   "metadata": {},
   "source": [
    "### Convertimos los datos categoricos a numericos"
   ]
  },
  {
   "cell_type": "code",
   "execution_count": null,
   "metadata": {},
   "outputs": [],
   "source": [
    "PML_FPS_pmap['work_rate'].drop_duplicates()"
   ]
  },
  {
   "cell_type": "code",
   "execution_count": null,
   "metadata": {},
   "outputs": [],
   "source": [
    "# new data frame with split value columns \n",
    "new = PML_FPS_pmap['work_rate'].str.split(\"/\", n = 1, expand = True) \n",
    "  \n",
    "# making separate first name column from new data frame \n",
    "PML_FPS_pmap[\"work_att\"]= new[0] \n",
    "  \n",
    "# making separate last name column from new data frame \n",
    "PML_FPS_pmap[\"work_def\"]= new[1] \n",
    "  \n",
    "# Dropping old Name columns \n",
    "#PML_FPS_pmap.drop(columns =[\"work_rate\"], inplace = True) \n",
    "  \n",
    "# df display \n",
    "PML_FPS_pmap.head(1)"
   ]
  },
  {
   "cell_type": "code",
   "execution_count": null,
   "metadata": {},
   "outputs": [],
   "source": [
    "work_rates = PML_FPS_pmap[['work_att','work_def']].copy()\n",
    "work_rates.tail(3)"
   ]
  },
  {
   "cell_type": "markdown",
   "metadata": {},
   "source": [
    "#### No usamos el OrdinalEncoder ya que pone los valores por abecedario y optamos por mapearlo con un diccionario"
   ]
  },
  {
   "cell_type": "code",
   "execution_count": null,
   "metadata": {},
   "outputs": [],
   "source": [
    "from sklearn.preprocessing import OrdinalEncoder\n",
    "\n",
    "ordinal_encoder = OrdinalEncoder()"
   ]
  },
  {
   "cell_type": "code",
   "execution_count": null,
   "metadata": {},
   "outputs": [],
   "source": [
    "work_rates_encoded =  ordinal_encoder.fit_transform(work_rates)\n",
    "work_rates_encoded"
   ]
  },
  {
   "cell_type": "code",
   "execution_count": null,
   "metadata": {},
   "outputs": [],
   "source": [
    "ordinal_encoder.categories_"
   ]
  },
  {
   "cell_type": "code",
   "execution_count": null,
   "metadata": {},
   "outputs": [],
   "source": [
    "mapping = { \"Low\" : 0,\"Medium\" : 1, \"High\" : 2}\n",
    "\n",
    "work_rates['int_work_att'] = work_rates[['work_att']].applymap(lambda x : mapping[x])\n",
    "work_rates['int_work_def'] = work_rates[['work_def']].applymap(lambda x : mapping[x])\n",
    "\n",
    "work_rates = work_rates.drop(columns =[\"work_att\",'work_def'])\n",
    "work_rates.info()"
   ]
  },
  {
   "cell_type": "code",
   "execution_count": null,
   "metadata": {},
   "outputs": [],
   "source": [
    "PML_FPS_wpmap = pd.concat([PML_FPS_pmap, work_rates], axis=1).drop(\n",
    "    columns=['work_att','work_def','work_rate','player_positions','body_type']).copy()"
   ]
  },
  {
   "cell_type": "code",
   "execution_count": null,
   "metadata": {},
   "outputs": [],
   "source": [
    "from sklearn.preprocessing import OneHotEncoder\n",
    "\n",
    "cat_encoder = OneHotEncoder()"
   ]
  },
  {
   "cell_type": "code",
   "execution_count": null,
   "metadata": {},
   "outputs": [],
   "source": [
    "PML_FPS_prefoot = PML_FPS_wpmap[['preferred_foot']].copy()"
   ]
  },
  {
   "cell_type": "code",
   "execution_count": null,
   "metadata": {},
   "outputs": [],
   "source": [
    "prefoot_1hot = cat_encoder.fit_transform(PML_FPS_prefoot)\n",
    "prefoot_1hot"
   ]
  },
  {
   "cell_type": "code",
   "execution_count": null,
   "metadata": {},
   "outputs": [],
   "source": [
    "cat_encoder.categories_"
   ]
  },
  {
   "cell_type": "code",
   "execution_count": null,
   "metadata": {},
   "outputs": [],
   "source": [
    "PML_FPS_wpmap.info()"
   ]
  },
  {
   "cell_type": "code",
   "execution_count": null,
   "metadata": {},
   "outputs": [],
   "source": [
    "prefoot_1hot_df = pd.DataFrame(prefoot_1hot.toarray(), columns=['left','right'])\n",
    "prefoot_1hot_df = prefoot_1hot_df.astype(int)\n",
    "PML_FPS_wpmap = PML_FPS_wpmap.reset_index() \n",
    "PML_FPS_fwpmap = pd.concat([PML_FPS_wpmap, prefoot_1hot_df], axis=1).drop(columns=['index','preferred_foot'])\n",
    "PML_FPS_fwpmap.head(2)"
   ]
  },
  {
   "cell_type": "code",
   "execution_count": null,
   "metadata": {},
   "outputs": [],
   "source": [
    "PML_FPS_ha = PML_FPS_fwpmap[['Home_Away']].copy()\n",
    "PML_FPS_ha.info()"
   ]
  },
  {
   "cell_type": "code",
   "execution_count": null,
   "metadata": {},
   "outputs": [],
   "source": [
    "home_away_1hot = cat_encoder.fit_transform(PML_FPS_ha)\n",
    "home_away_1hot"
   ]
  },
  {
   "cell_type": "code",
   "execution_count": null,
   "metadata": {},
   "outputs": [],
   "source": [
    "cat_encoder.categories_"
   ]
  },
  {
   "cell_type": "code",
   "execution_count": null,
   "metadata": {},
   "outputs": [],
   "source": [
    "home_away_1hot_arr = pd.DataFrame(home_away_1hot.toarray(), columns=['away','home'])\n",
    "\n",
    "PML_FPS_hfwpmap = pd.concat([PML_FPS_fwpmap, home_away_1hot_arr], axis=1).drop(columns =[\"Home_Away\"])\n",
    "PML_FPS_hfwpmap"
   ]
  },
  {
   "cell_type": "code",
   "execution_count": null,
   "metadata": {},
   "outputs": [],
   "source": [
    "PML_FPS_hfwpmap.info()"
   ]
  },
  {
   "cell_type": "code",
   "execution_count": null,
   "metadata": {},
   "outputs": [],
   "source": [
    "#PML_FPS_hfwpmap[['Date','club']].unique().tolist()\n",
    "#PML_FPS_hfwpmap.query('Date == \"25.10.2014 06:45\" and club == \"Manchester City\"')"
   ]
  },
  {
   "cell_type": "markdown",
   "metadata": {},
   "source": [
    "#### Asignamos un match_id por partido sabiendo que estan en orden de 20 en 20 (no recuerdo como lo hice antes usando \"Date\")"
   ]
  },
  {
   "cell_type": "code",
   "execution_count": null,
   "metadata": {},
   "outputs": [],
   "source": [
    "match_id = []\n",
    "for i in range(380):\n",
    "    for _ in range(20):\n",
    "        match_id.append(i)\n",
    "match_id_df = pd.DataFrame(match_id, columns = ['match_id'])\n",
    "match_id_df"
   ]
  },
  {
   "cell_type": "code",
   "execution_count": null,
   "metadata": {},
   "outputs": [],
   "source": [
    "PML_FPS_ihfwpmap = pd.concat([match_id_df, PML_FPS_hfwpmap], axis=1)\n",
    "PML_FPS_ihfwpmap.tail(1)"
   ]
  },
  {
   "cell_type": "code",
   "execution_count": null,
   "metadata": {},
   "outputs": [],
   "source": [
    "PML_FPS_ihfwpmap.to_csv('PML_FPS.csv', index=False)"
   ]
  },
  {
   "cell_type": "code",
   "execution_count": null,
   "metadata": {},
   "outputs": [],
   "source": [
    "#matches_and_players.to_csv('matches_and_players.csv', index=False)\n",
    "#matches_PL.to_csv('matches_PL.csv', index=False)\n",
    "#players_id_drop_rows.to_csv('players_id_drop_rows.csv', index=False)"
   ]
  },
  {
   "cell_type": "markdown",
   "metadata": {},
   "source": [
    "### Hare otros 2 archivos que tenga el score home en uno y score away en otro. Y la dif de goles."
   ]
  },
  {
   "cell_type": "code",
   "execution_count": null,
   "metadata": {},
   "outputs": [],
   "source": []
  },
  {
   "cell_type": "code",
   "execution_count": null,
   "metadata": {},
   "outputs": [],
   "source": []
  },
  {
   "cell_type": "code",
   "execution_count": null,
   "metadata": {},
   "outputs": [],
   "source": []
  },
  {
   "cell_type": "code",
   "execution_count": null,
   "metadata": {},
   "outputs": [],
   "source": []
  },
  {
   "cell_type": "code",
   "execution_count": null,
   "metadata": {},
   "outputs": [],
   "source": []
  },
  {
   "cell_type": "code",
   "execution_count": null,
   "metadata": {},
   "outputs": [],
   "source": []
  }
 ],
 "metadata": {
  "kernelspec": {
   "display_name": "ScrapeMatches",
   "language": "python",
   "name": "scrapematches"
  },
  "language_info": {
   "codemirror_mode": {
    "name": "ipython",
    "version": 3
   },
   "file_extension": ".py",
   "mimetype": "text/x-python",
   "name": "python",
   "nbconvert_exporter": "python",
   "pygments_lexer": "ipython3",
   "version": "3.7.3"
  }
 },
 "nbformat": 4,
 "nbformat_minor": 2
}
